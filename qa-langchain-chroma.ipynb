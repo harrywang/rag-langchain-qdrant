{
  "cells": [
    {
      "cell_type": "raw",
      "id": "34814bdb-d05b-4dd3-adf1-ca5779882d7e",
      "metadata": {
        "id": "34814bdb-d05b-4dd3-adf1-ca5779882d7e"
      },
      "source": [
        "---\n",
        "sidebar_position: 0\n",
        "---"
      ]
    },
    {
      "cell_type": "markdown",
      "id": "86fc5bb2-017f-434e-8cd6-53ab214a5604",
      "metadata": {
        "id": "86fc5bb2-017f-434e-8cd6-53ab214a5604"
      },
      "source": [
        "# Quickstart"
      ]
    },
    {
      "cell_type": "markdown",
      "id": "de913d6d-c57f-4927-82fe-18902a636861",
      "metadata": {
        "id": "de913d6d-c57f-4927-82fe-18902a636861"
      },
      "source": [
        "[![](https://colab.research.google.com/assets/colab-badge.svg)](https://colab.research.google.com/github/langchain-ai/langchain/blob/master/docs/docs/use_cases/question_answering/quickstart.ipynb)"
      ]
    },
    {
      "cell_type": "markdown",
      "id": "5151afed",
      "metadata": {
        "id": "5151afed"
      },
      "source": [
        "LangChain has a number of components designed to help build question-answering applications, and RAG applications more generally. To familiarize ourselves with these, we'll build a simple Q&A application over a text data source. Along the way we'll go over a typical Q&A architecture, discuss the relevant LangChain components, and highlight additional resources for more advanced Q&A techniques. We'll also see how LangSmith can help us trace and understand our application. LangSmith will become increasingly helpful as our application grows in complexity."
      ]
    },
    {
      "cell_type": "markdown",
      "id": "2f25cbbd-0938-4e3d-87e4-17a204a03ffb",
      "metadata": {
        "id": "2f25cbbd-0938-4e3d-87e4-17a204a03ffb"
      },
      "source": [
        "## Architecture\n",
        "We'll create a typical RAG application as outlined in the [Q&A introduction](/docs/use_cases/question_answering/), which has two main components:\n",
        "\n",
        "**Indexing**: a pipeline for ingesting data from a source and indexing it. *This usually happens offline.*\n",
        "\n",
        "**Retrieval and generation**: the actual RAG chain, which takes the user query at run time and retrieves the relevant data from the index, then passes that to the model.\n",
        "\n",
        "The full sequence from raw data to answer will look like:\n",
        "\n",
        "#### Indexing\n",
        "1. **Load**: First we need to load our data. We'll use [DocumentLoaders](/docs/modules/data_connection/document_loaders/) for this.\n",
        "2. **Split**: [Text splitters](/docs/modules/data_connection/document_transformers/) break large `Documents` into smaller chunks. This is useful both for indexing data and for passing it in to a model, since large chunks are harder to search over and won't fit in a model's finite context window.\n",
        "3. **Store**: We need somewhere to store and index our splits, so that they can later be searched over. This is often done using a [VectorStore](/docs/modules/data_connection/vectorstores/) and [Embeddings](/docs/modules/data_connection/text_embedding/) model.\n",
        "\n",
        "#### Retrieval and generation\n",
        "4. **Retrieve**: Given a user input, relevant splits are retrieved from storage using a [Retriever](/docs/modules/data_connection/retrievers/).\n",
        "5. **Generate**: A [ChatModel](/docs/modules/model_io/chat/) / [LLM](/docs/modules/model_io/llms/) produces an answer using a prompt that includes the question and the retrieved data"
      ]
    },
    {
      "cell_type": "markdown",
      "id": "487d8d79-5ee9-4aa4-9fdf-cd5f4303e099",
      "metadata": {
        "id": "487d8d79-5ee9-4aa4-9fdf-cd5f4303e099"
      },
      "source": [
        "## Setup\n",
        "\n",
        "### Dependencies\n",
        "\n",
        "We'll use an OpenAI chat model and embeddings and a Chroma vector store in this walkthrough, but everything shown here works with any [ChatModel](/docs/modules/model_io/chat/) or [LLM](/docs/modules/model_io/llms/), [Embeddings](/docs/modules/data_connection/text_embedding/), and [VectorStore](/docs/modules/data_connection/vectorstores/) or [Retriever](/docs/modules/data_connection/retrievers/).\n",
        "\n",
        "We'll use the following packages:"
      ]
    },
    {
      "cell_type": "code",
      "execution_count": 2,
      "id": "28d272cd-4e31-40aa-bbb4-0be0a1f49a14",
      "metadata": {
        "id": "28d272cd-4e31-40aa-bbb4-0be0a1f49a14"
      },
      "outputs": [
        {
          "name": "stdout",
          "output_type": "stream",
          "text": [
            "\n",
            "\u001b[1m[\u001b[0m\u001b[34;49mnotice\u001b[0m\u001b[1;39;49m]\u001b[0m\u001b[39;49m A new release of pip available: \u001b[0m\u001b[31;49m22.2.1\u001b[0m\u001b[39;49m -> \u001b[0m\u001b[32;49m24.0\u001b[0m\n",
            "\u001b[1m[\u001b[0m\u001b[34;49mnotice\u001b[0m\u001b[1;39;49m]\u001b[0m\u001b[39;49m To update, run: \u001b[0m\u001b[32;49mpip install --upgrade pip\u001b[0m\n",
            "Note: you may need to restart the kernel to use updated packages.\n"
          ]
        }
      ],
      "source": [
        "%pip install --upgrade --quiet  langchain langchain-community langchainhub langchain-openai chromadb bs4"
      ]
    },
    {
      "cell_type": "markdown",
      "id": "51ef48de-70b6-4f43-8e0b-ab9b84c9c02a",
      "metadata": {
        "id": "51ef48de-70b6-4f43-8e0b-ab9b84c9c02a"
      },
      "source": [
        "We need to set environment variable `OPENAI_API_KEY`, which can be done directly or loaded from a `.env` file like so:"
      ]
    },
    {
      "cell_type": "code",
      "execution_count": 1,
      "id": "143787ca-d8e6-4dc9-8281-4374f4d71720",
      "metadata": {
        "id": "143787ca-d8e6-4dc9-8281-4374f4d71720"
      },
      "outputs": [
        {
          "data": {
            "text/plain": [
              "True"
            ]
          },
          "execution_count": 1,
          "metadata": {},
          "output_type": "execute_result"
        }
      ],
      "source": [
        "import openai\n",
        "import os\n",
        "from dotenv import load_dotenv\n",
        "\n",
        "load_dotenv()  # take environment variables from .env"
      ]
    },
    {
      "cell_type": "markdown",
      "id": "1665e740-ce01-4f09-b9ed-516db0bd326f",
      "metadata": {
        "id": "1665e740-ce01-4f09-b9ed-516db0bd326f"
      },
      "source": [
        "### LangSmith\n",
        "\n",
        "Many of the applications you build with LangChain will contain multiple steps with multiple invocations of LLM calls. As these applications get more and more complex, it becomes crucial to be able to inspect what exactly is going on inside your chain or agent. The best way to do this is with [LangSmith](https://smith.langchain.com).\n",
        "\n",
        "Note that LangSmith is not needed, but it is helpful. If you do want to use LangSmith, after you sign up at the link above, make sure to set your environment variables to start logging traces:"
      ]
    },
    {
      "cell_type": "code",
      "execution_count": 3,
      "id": "07411adb-3722-4f65-ab7f-8f6f57663d11",
      "metadata": {
        "id": "07411adb-3722-4f65-ab7f-8f6f57663d11"
      },
      "outputs": [],
      "source": [
        "os.environ[\"LANGCHAIN_TRACING_V2\"] = \"true\"\n",
        "os.environ[\"LANGCHAIN_API_KEY\"] = getpass.getpass()"
      ]
    },
    {
      "cell_type": "markdown",
      "id": "fa6ba684-26cf-4860-904e-a4d51380c134",
      "metadata": {
        "id": "fa6ba684-26cf-4860-904e-a4d51380c134"
      },
      "source": [
        "## Preview\n",
        "\n",
        "In this guide we'll build a QA app over the [LLM Powered Autonomous Agents](https://lilianweng.github.io/posts/2023-06-23-agent/) blog post by Lilian Weng, which allows us to ask questions about the contents of the post.\n",
        "\n",
        "We can create a simple indexing pipeline and RAG chain to do this in ~20 lines of code:"
      ]
    },
    {
      "cell_type": "code",
      "execution_count": 2,
      "id": "d8a913b1-0eea-442a-8a64-ec73333f104b",
      "metadata": {
        "id": "d8a913b1-0eea-442a-8a64-ec73333f104b"
      },
      "outputs": [],
      "source": [
        "import bs4\n",
        "from langchain import hub\n",
        "from langchain_community.document_loaders import WebBaseLoader\n",
        "from langchain_community.vectorstores import Chroma\n",
        "from langchain_core.output_parsers import StrOutputParser\n",
        "from langchain_core.runnables import RunnablePassthrough\n",
        "from langchain_openai import ChatOpenAI, OpenAIEmbeddings\n",
        "from langchain_text_splitters import RecursiveCharacterTextSplitter"
      ]
    },
    {
      "cell_type": "code",
      "execution_count": 3,
      "id": "d789bf34",
      "metadata": {},
      "outputs": [
        {
          "data": {
            "text/plain": [
              "[Document(page_content='\\n\\n      LLM Powered Autonomous Agents\\n    \\nDate: June 23, 2023  |  Estimated Reading Time: 31 min  |  Author: Lilian Weng\\n\\n\\nBuilding agents with LLM (large language model) as its core controller is a cool concept. Several proof-of-concepts demos, such as AutoGPT, GPT-Engineer and BabyAGI, serve as inspiring examples. The potentiality of LLM extends beyond generating well-written copies, stories, essays and programs; it can be framed as a powerful general problem solver.\\nAgent System Overview#\\nIn a LLM-powered autonomous agent system, LLM functions as the agent’s brain, complemented by several key components:\\n\\nPlanning\\n\\nSubgoal and decomposition: The agent breaks down large tasks into smaller, manageable subgoals, enabling efficient handling of complex tasks.\\nReflection and refinement: The agent can do self-criticism and self-reflection over past actions, learn from mistakes and refine them for future steps, thereby improving the quality of final results.\\n\\n\\nMemory\\n\\nShort-term memory: I would consider all the in-context learning (See Prompt Engineering) as utilizing short-term memory of the model to learn.\\nLong-term memory: This provides the agent with the capability to retain and recall (infinite) information over extended periods, often by leveraging an external vector store and fast retrieval.\\n\\n\\nTool use\\n\\nThe agent learns to call external APIs for extra information that is missing from the model weights (often hard to change after pre-training), including current information, code execution capability, access to proprietary information sources and more.\\n\\n\\n\\n\\nFig. 1. Overview of a LLM-powered autonomous agent system.\\nComponent One: Planning#\\nA complicated task usually involves many steps. An agent needs to know what they are and plan ahead.\\nTask Decomposition#\\nChain of thought (CoT; Wei et al. 2022) has become a standard prompting technique for enhancing model performance on complex tasks. The model is instructed to “think step by step” to utilize more test-time computation to decompose hard tasks into smaller and simpler steps. CoT transforms big tasks into multiple manageable tasks and shed lights into an interpretation of the model’s thinking process.\\nTree of Thoughts (Yao et al. 2023) extends CoT by exploring multiple reasoning possibilities at each step. It first decomposes the problem into multiple thought steps and generates multiple thoughts per step, creating a tree structure. The search process can be BFS (breadth-first search) or DFS (depth-first search) with each state evaluated by a classifier (via a prompt) or majority vote.\\nTask decomposition can be done (1) by LLM with simple prompting like \"Steps for XYZ.\\\\n1.\", \"What are the subgoals for achieving XYZ?\", (2) by using task-specific instructions; e.g. \"Write a story outline.\" for writing a novel, or (3) with human inputs.\\nAnother quite distinct approach, LLM+P (Liu et al. 2023), involves relying on an external classical planner to do long-horizon planning. This approach utilizes the Planning Domain Definition Language (PDDL) as an intermediate interface to describe the planning problem. In this process, LLM (1) translates the problem into “Problem PDDL”, then (2) requests a classical planner to generate a PDDL plan based on an existing “Domain PDDL”, and finally (3) translates the PDDL plan back into natural language. Essentially, the planning step is outsourced to an external tool, assuming the availability of domain-specific PDDL and a suitable planner which is common in certain robotic setups but not in many other domains.\\nSelf-Reflection#\\nSelf-reflection is a vital aspect that allows autonomous agents to improve iteratively by refining past action decisions and correcting previous mistakes. It plays a crucial role in real-world tasks where trial and error are inevitable.\\nReAct (Yao et al. 2023) integrates reasoning and acting within LLM by extending the action space to be a combination of task-specific discrete actions and the language space. The former enables LLM to interact with the environment (e.g. use Wikipedia search API), while the latter prompting LLM to generate reasoning traces in natural language.\\nThe ReAct prompt template incorporates explicit steps for LLM to think, roughly formatted as:\\nThought: ...\\nAction: ...\\nObservation: ...\\n... (Repeated many times)\\n\\nFig. 2.  Examples of reasoning trajectories for knowledge-intensive tasks (e.g. HotpotQA, FEVER) and decision-making tasks (e.g. AlfWorld Env, WebShop). (Image source: Yao et al. 2023).\\nIn both experiments on knowledge-intensive tasks and decision-making tasks, ReAct works better than the Act-only baseline where Thought: … step is removed.\\nReflexion (Shinn & Labash 2023) is a framework to equips agents with dynamic memory and self-reflection capabilities to improve reasoning skills. Reflexion has a standard RL setup, in which the reward model provides a simple binary reward and the action space follows the setup in ReAct where the task-specific action space is augmented with language to enable complex reasoning steps. After each action $a_t$, the agent computes a heuristic $h_t$ and optionally may decide to reset the environment to start a new trial depending on the self-reflection results.\\n\\nFig. 3. Illustration of the Reflexion framework. (Image source: Shinn & Labash, 2023)\\nThe heuristic function determines when the trajectory is inefficient or contains hallucination and should be stopped. Inefficient planning refers to trajectories that take too long without success. Hallucination is defined as encountering a sequence of consecutive identical actions that lead to the same observation in the environment.\\nSelf-reflection is created by showing two-shot examples to LLM and each example is a pair of (failed trajectory, ideal reflection for guiding future changes in the plan). Then reflections are added into the agent’s working memory, up to three, to be used as context for querying LLM.\\n\\nFig. 4. Experiments on AlfWorld Env and HotpotQA. Hallucination is a more common failure than inefficient planning in AlfWorld. (Image source: Shinn & Labash, 2023)\\nChain of Hindsight (CoH; Liu et al. 2023) encourages the model to improve on its own outputs by explicitly presenting it with a sequence of past outputs, each annotated with feedback. Human feedback data is a collection of $D_h = \\\\{(x, y_i , r_i , z_i)\\\\}_{i=1}^n$, where $x$ is the prompt, each $y_i$ is a model completion, $r_i$ is the human rating of $y_i$, and $z_i$ is the corresponding human-provided hindsight feedback. Assume the feedback tuples are ranked by reward, $r_n \\\\geq r_{n-1} \\\\geq \\\\dots \\\\geq r_1$ The process is supervised fine-tuning where the data is a sequence in the form of $\\\\tau_h = (x, z_i, y_i, z_j, y_j, \\\\dots, z_n, y_n)$, where $\\\\leq i \\\\leq j \\\\leq n$. The model is finetuned to only predict $y_n$ where conditioned on the sequence prefix, such that the model can self-reflect to produce better output based on the feedback sequence. The model can optionally receive multiple rounds of instructions with human annotators at test time.\\nTo avoid overfitting, CoH adds a regularization term to maximize the log-likelihood of the pre-training dataset. To avoid shortcutting and copying (because there are many common words in feedback sequences), they randomly mask 0% - 5% of past tokens during training.\\nThe training dataset in their experiments is a combination of WebGPT comparisons, summarization from human feedback and human preference dataset.\\n\\nFig. 5. After fine-tuning with CoH, the model can follow instructions to produce outputs with incremental improvement in a sequence. (Image source: Liu et al. 2023)\\nThe idea of CoH is to present a history of sequentially improved outputs  in context and train the model to take on the trend to produce better outputs. Algorithm Distillation (AD; Laskin et al. 2023) applies the same idea to cross-episode trajectories in reinforcement learning tasks, where an algorithm is encapsulated in a long history-conditioned policy. Considering that an agent interacts with the environment many times and in each episode the agent gets a little better, AD concatenates this learning history and feeds that into the model. Hence we should expect the next predicted action to lead to better performance than previous trials. The goal is to learn the process of RL instead of training a task-specific policy itself.\\n\\nFig. 6. Illustration of how Algorithm Distillation (AD) works. (Image source: Laskin et al. 2023).\\nThe paper hypothesizes that any algorithm that generates a set of learning histories can be distilled into a neural network by performing behavioral cloning over actions. The history data is generated by a set of source policies, each trained for a specific task. At the training stage, during each RL run, a random task is sampled and a subsequence of multi-episode history is used for training, such that the learned policy is task-agnostic.\\nIn reality, the model has limited context window length, so episodes should be short enough to construct multi-episode history. Multi-episodic contexts of 2-4 episodes are necessary to learn a near-optimal in-context RL algorithm. The emergence of in-context RL requires long enough context.\\nIn comparison with three baselines, including ED (expert distillation, behavior cloning with expert trajectories instead of learning history), source policy (used for generating trajectories for distillation by UCB), RL^2 (Duan et al. 2017; used as upper bound since it needs online RL), AD demonstrates in-context RL with performance getting close to RL^2 despite only using offline RL and learns much faster than other baselines. When conditioned on partial training history of the source policy, AD also improves much faster than ED baseline.\\n\\nFig. 7. Comparison of AD, ED, source policy and RL^2 on environments that require memory and exploration. Only binary reward is assigned. The source policies are trained with A3C for \"dark\" environments and DQN for watermaze.(Image source: Laskin et al. 2023)\\nComponent Two: Memory#\\n(Big thank you to ChatGPT for helping me draft this section. I’ve learned a lot about the human brain and data structure for fast MIPS in my conversations with ChatGPT.)\\nTypes of Memory#\\nMemory can be defined as the processes used to acquire, store, retain, and later retrieve information. There are several types of memory in human brains.\\n\\n\\nSensory Memory: This is the earliest stage of memory, providing the ability to retain impressions of sensory information (visual, auditory, etc) after the original stimuli have ended. Sensory memory typically only lasts for up to a few seconds. Subcategories include iconic memory (visual), echoic memory (auditory), and haptic memory (touch).\\n\\n\\nShort-Term Memory (STM) or Working Memory: It stores information that we are currently aware of and needed to carry out complex cognitive tasks such as learning and reasoning. Short-term memory is believed to have the capacity of about 7 items (Miller 1956) and lasts for 20-30 seconds.\\n\\n\\nLong-Term Memory (LTM): Long-term memory can store information for a remarkably long time, ranging from a few days to decades, with an essentially unlimited storage capacity. There are two subtypes of LTM:\\n\\nExplicit / declarative memory: This is memory of facts and events, and refers to those memories that can be consciously recalled, including episodic memory (events and experiences) and semantic memory (facts and concepts).\\nImplicit / procedural memory: This type of memory is unconscious and involves skills and routines that are performed automatically, like riding a bike or typing on a keyboard.\\n\\n\\n\\n\\nFig. 8. Categorization of human memory.\\nWe can roughly consider the following mappings:\\n\\nSensory memory as learning embedding representations for raw inputs, including text, image or other modalities;\\nShort-term memory as in-context learning. It is short and finite, as it is restricted by the finite context window length of Transformer.\\nLong-term memory as the external vector store that the agent can attend to at query time, accessible via fast retrieval.\\n\\nMaximum Inner Product Search (MIPS)#\\nThe external memory can alleviate the restriction of finite attention span.  A standard practice is to save the embedding representation of information into a vector store database that can support fast maximum inner-product search (MIPS). To optimize the retrieval speed, the common choice is the approximate nearest neighbors (ANN)\\u200b algorithm to return approximately top k nearest neighbors to trade off a little accuracy lost for a huge speedup.\\nA couple common choices of ANN algorithms for fast MIPS:\\n\\nLSH (Locality-Sensitive Hashing): It introduces a hashing function such that similar input items are mapped to the same buckets with high probability, where the number of buckets is much smaller than the number of inputs.\\nANNOY (Approximate Nearest Neighbors Oh Yeah): The core data structure are random projection trees, a set of binary trees where each non-leaf node represents a hyperplane splitting the input space into half and each leaf stores one data point. Trees are built independently and at random, so to some extent, it mimics a hashing function. ANNOY search happens in all the trees to iteratively search through the half that is closest to the query and then aggregates the results. The idea is quite related to KD tree but a lot more scalable.\\nHNSW (Hierarchical Navigable Small World): It is inspired by the idea of small world networks where most nodes can be reached by any other nodes within a small number of steps; e.g. “six degrees of separation” feature of social networks. HNSW builds hierarchical layers of these small-world graphs, where the bottom layers contain the actual data points. The layers in the middle create shortcuts to speed up search. When performing a search, HNSW starts from a random node in the top layer and navigates towards the target. When it can’t get any closer, it moves down to the next layer, until it reaches the bottom layer. Each move in the upper layers can potentially cover a large distance in the data space, and each move in the lower layers refines the search quality.\\nFAISS (Facebook AI Similarity Search): It operates on the assumption that in high dimensional space, distances between nodes follow a Gaussian distribution and thus there should exist clustering of data points. FAISS applies vector quantization by partitioning the vector space into clusters and then refining the quantization within clusters. Search first looks for cluster candidates with coarse quantization and then further looks into each cluster with finer quantization.\\nScaNN (Scalable Nearest Neighbors): The main innovation in ScaNN is anisotropic vector quantization. It quantizes a data point $x_i$ to $\\\\tilde{x}_i$ such that the inner product $\\\\langle q, x_i \\\\rangle$ is as similar to the original distance of $\\\\angle q, \\\\tilde{x}_i$ as possible, instead of picking the closet quantization centroid points.\\n\\n\\nFig. 9. Comparison of MIPS algorithms, measured in recall@10. (Image source: Google Blog, 2020)\\nCheck more MIPS algorithms and performance comparison in ann-benchmarks.com.\\nComponent Three: Tool Use#\\nTool use is a remarkable and distinguishing characteristic of human beings. We create, modify and utilize external objects to do things that go beyond our physical and cognitive limits. Equipping LLMs with external tools can significantly extend the model capabilities.\\n\\nFig. 10. A picture of a sea otter using rock to crack open a seashell, while floating in the water. While some other animals can use tools, the complexity is not comparable with humans. (Image source: Animals using tools)\\nMRKL (Karpas et al. 2022), short for “Modular Reasoning, Knowledge and Language”, is a neuro-symbolic architecture for autonomous agents. A MRKL system is proposed to contain a collection of “expert” modules and the general-purpose LLM works as a router to route inquiries to the best suitable expert module. These modules can be neural (e.g. deep learning models) or symbolic (e.g. math calculator, currency converter, weather API).\\nThey did an experiment on fine-tuning LLM to call a calculator, using arithmetic as a test case. Their experiments showed that it was harder to solve verbal math problems than explicitly stated math problems because LLMs (7B Jurassic1-large model) failed to extract the right arguments for the basic arithmetic reliably. The results highlight when the external symbolic tools can work reliably, knowing when to and how to use the tools are crucial, determined by the LLM capability.\\nBoth TALM (Tool Augmented Language Models; Parisi et al. 2022) and Toolformer (Schick et al. 2023) fine-tune a LM to learn to use external tool APIs. The dataset is expanded based on whether a newly added API call annotation can improve the quality of model outputs. See more details in the “External APIs” section of Prompt Engineering.\\nChatGPT Plugins and OpenAI API  function calling are good examples of LLMs augmented with tool use capability working in practice. The collection of tool APIs can be provided by other developers (as in Plugins) or self-defined (as in function calls).\\nHuggingGPT (Shen et al. 2023) is a framework to use ChatGPT as the task planner to select models available in HuggingFace platform according to the model descriptions and summarize the response based on the execution results.\\n\\nFig. 11. Illustration of how HuggingGPT works. (Image source: Shen et al. 2023)\\nThe system comprises of 4 stages:\\n(1) Task planning: LLM works as the brain and parses the user requests into multiple tasks. There are four attributes associated with each task: task type, ID, dependencies, and arguments. They use few-shot examples to guide LLM to do task parsing and planning.\\nInstruction:\\n\\nThe AI assistant can parse user input to several tasks: [{\"task\": task, \"id\", task_id, \"dep\": dependency_task_ids, \"args\": {\"text\": text, \"image\": URL, \"audio\": URL, \"video\": URL}}]. The \"dep\" field denotes the id of the previous task which generates a new resource that the current task relies on. A special tag \"-task_id\" refers to the generated text image, audio and video in the dependency task with id as task_id. The task MUST be selected from the following options: {{ Available Task List }}. There is a logical relationship between tasks, please note their order. If the user input can\\'t be parsed, you need to reply empty JSON. Here are several cases for your reference: {{ Demonstrations }}. The chat history is recorded as {{ Chat History }}. From this chat history, you can find the path of the user-mentioned resources for your task planning.\\n\\n(2) Model selection: LLM distributes the tasks to expert models, where the request is framed as a multiple-choice question. LLM is presented with a list of models to choose from. Due to the limited context length, task type based filtration is needed.\\nInstruction:\\n\\nGiven the user request and the call command, the AI assistant helps the user to select a suitable model from a list of models to process the user request. The AI assistant merely outputs the model id of the most appropriate model. The output must be in a strict JSON format: \"id\": \"id\", \"reason\": \"your detail reason for the choice\". We have a list of models for you to choose from {{ Candidate Models }}. Please select one model from the list.\\n\\n(3) Task execution: Expert models execute on the specific tasks and log results.\\nInstruction:\\n\\nWith the input and the inference results, the AI assistant needs to describe the process and results. The previous stages can be formed as - User Input: {{ User Input }}, Task Planning: {{ Tasks }}, Model Selection: {{ Model Assignment }}, Task Execution: {{ Predictions }}. You must first answer the user\\'s request in a straightforward manner. Then describe the task process and show your analysis and model inference results to the user in the first person. If inference results contain a file path, must tell the user the complete file path.\\n\\n(4) Response generation: LLM receives the execution results and provides summarized results to users.\\nTo put HuggingGPT into real world usage, a couple challenges need to solve: (1) Efficiency improvement is needed as both LLM inference rounds and interactions with other models slow down the process; (2) It relies on a long context window to communicate over complicated task content; (3) Stability improvement of LLM outputs and external model services.\\nAPI-Bank (Li et al. 2023) is a benchmark for evaluating the performance of tool-augmented LLMs. It contains 53 commonly used API tools, a complete tool-augmented LLM workflow, and 264 annotated dialogues that involve 568 API calls. The selection of APIs is quite diverse, including search engines, calculator, calendar queries, smart home control, schedule management, health data management, account authentication workflow and more. Because there are a large number of APIs, LLM first has access to API search engine to find the right API to call and then uses the corresponding documentation to make a call.\\n\\nFig. 12. Pseudo code of how LLM makes an API call in API-Bank. (Image source: Li et al. 2023)\\nIn the API-Bank workflow, LLMs need to make a couple of decisions and at each step we can evaluate how accurate that decision is. Decisions include:\\n\\nWhether an API call is needed.\\nIdentify the right API to call: if not good enough, LLMs need to iteratively modify the API inputs (e.g. deciding search keywords for Search Engine API).\\nResponse based on the API results: the model can choose to refine and call again if results are not satisfied.\\n\\nThis benchmark evaluates the agent’s tool use capabilities at three levels:\\n\\nLevel-1 evaluates the ability to call the API. Given an API’s description, the model needs to determine whether to call a given API, call it correctly, and respond properly to API returns.\\nLevel-2 examines the ability to retrieve the API. The model needs to search for possible APIs that may solve the user’s requirement and learn how to use them by reading documentation.\\nLevel-3 assesses the ability to plan API beyond retrieve and call. Given unclear user requests (e.g. schedule group meetings, book flight/hotel/restaurant for a trip), the model may have to conduct multiple API calls to solve it.\\n\\nCase Studies#\\nScientific Discovery Agent#\\nChemCrow (Bran et al. 2023) is a domain-specific example in which LLM is augmented with 13 expert-designed tools to accomplish tasks across organic synthesis, drug discovery, and materials design. The workflow, implemented in LangChain, reflects what was previously described in the ReAct and MRKLs and combines CoT reasoning with tools relevant to the tasks:\\n\\nThe LLM is provided with a list of tool names, descriptions of their utility, and details about the expected input/output.\\nIt is then instructed to answer a user-given prompt using the tools provided when necessary. The instruction suggests the model to follow the ReAct format - Thought, Action, Action Input, Observation.\\n\\nOne interesting observation is that while the LLM-based evaluation concluded that GPT-4 and ChemCrow perform nearly equivalently, human evaluations with experts oriented towards the completion and chemical correctness of the solutions showed that ChemCrow outperforms GPT-4 by a large margin. This indicates a potential problem with using LLM to evaluate its own performance on domains that requires deep expertise. The lack of expertise may cause LLMs not knowing its flaws and thus cannot well judge the correctness of task results.\\nBoiko et al. (2023) also looked into LLM-empowered agents for scientific discovery, to handle autonomous design, planning, and performance of complex scientific experiments. This agent can use tools to browse the Internet, read documentation, execute code, call robotics experimentation APIs and leverage other LLMs.\\nFor example, when requested to \"develop a novel anticancer drug\", the model came up with the following reasoning steps:\\n\\ninquired about current trends in anticancer drug discovery;\\nselected a target;\\nrequested a scaffold targeting these compounds;\\nOnce the compound was identified, the model attempted its synthesis.\\n\\nThey also discussed the risks, especially with illicit drugs and bioweapons. They developed a test set containing a list of known chemical weapon agents and asked the agent to synthesize them. 4 out of 11 requests (36%) were accepted to obtain a synthesis solution and the agent attempted to consult documentation to execute the procedure. 7 out of 11 were rejected and among these 7 rejected cases, 5 happened after a Web search while 2 were rejected based on prompt only.\\nGenerative Agents Simulation#\\nGenerative Agents (Park, et al. 2023) is super fun experiment where 25 virtual characters, each controlled by a LLM-powered agent, are living and interacting in a sandbox environment, inspired by The Sims. Generative agents create believable simulacra of human behavior for interactive applications.\\nThe design of generative agents combines LLM with memory, planning and reflection mechanisms to enable agents to behave conditioned on past experience, as well as to interact with other agents.\\n\\nMemory stream: is a long-term memory module (external database) that records a comprehensive list of agents’ experience in natural language.\\n\\nEach element is an observation, an event directly provided by the agent.\\n- Inter-agent communication can trigger new natural language statements.\\n\\n\\nRetrieval model: surfaces the context to inform the agent’s behavior, according to relevance, recency and importance.\\n\\nRecency: recent events have higher scores\\nImportance: distinguish mundane from core memories. Ask LM directly.\\nRelevance: based on how related it is to the current situation / query.\\n\\n\\nReflection mechanism: synthesizes memories into higher level inferences over time and guides the agent’s future behavior. They are higher-level summaries of past events (<- note that this is a bit different from self-reflection above)\\n\\nPrompt LM with 100 most recent observations and to generate 3 most salient high-level questions given a set of observations/statements. Then ask LM to answer those questions.\\n\\n\\nPlanning & Reacting: translate the reflections and the environment information into actions\\n\\nPlanning is essentially in order to optimize believability at the moment vs in time.\\nPrompt template: {Intro of an agent X}. Here is X\\'s plan today in broad strokes: 1)\\nRelationships between agents and observations of one agent by another are all taken into consideration for planning and reacting.\\nEnvironment information is present in a tree structure.\\n\\n\\n\\n\\nFig. 13. The generative agent architecture. (Image source: Park et al. 2023)\\nThis fun simulation results in emergent social behavior, such as information diffusion, relationship memory (e.g. two agents continuing the conversation topic) and coordination of social events (e.g. host a party and invite many others).\\nProof-of-Concept Examples#\\nAutoGPT has drawn a lot of attention into the possibility of setting up autonomous agents with LLM as the main controller. It has quite a lot of reliability issues given the natural language interface, but nevertheless a cool proof-of-concept demo. A lot of code in AutoGPT is about format parsing.\\nHere is the system message used by AutoGPT, where {{...}} are user inputs:\\nYou are {{ai-name}}, {{user-provided AI bot description}}.\\nYour decisions must always be made independently without seeking user assistance. Play to your strengths as an LLM and pursue simple strategies with no legal complications.\\n\\nGOALS:\\n\\n1. {{user-provided goal 1}}\\n2. {{user-provided goal 2}}\\n3. ...\\n4. ...\\n5. ...\\n\\nConstraints:\\n1. ~4000 word limit for short term memory. Your short term memory is short, so immediately save important information to files.\\n2. If you are unsure how you previously did something or want to recall past events, thinking about similar events will help you remember.\\n3. No user assistance\\n4. Exclusively use the commands listed in double quotes e.g. \"command name\"\\n5. Use subprocesses for commands that will not terminate within a few minutes\\n\\nCommands:\\n1. Google Search: \"google\", args: \"input\": \"<search>\"\\n2. Browse Website: \"browse_website\", args: \"url\": \"<url>\", \"question\": \"<what_you_want_to_find_on_website>\"\\n3. Start GPT Agent: \"start_agent\", args: \"name\": \"<name>\", \"task\": \"<short_task_desc>\", \"prompt\": \"<prompt>\"\\n4. Message GPT Agent: \"message_agent\", args: \"key\": \"<key>\", \"message\": \"<message>\"\\n5. List GPT Agents: \"list_agents\", args:\\n6. Delete GPT Agent: \"delete_agent\", args: \"key\": \"<key>\"\\n7. Clone Repository: \"clone_repository\", args: \"repository_url\": \"<url>\", \"clone_path\": \"<directory>\"\\n8. Write to file: \"write_to_file\", args: \"file\": \"<file>\", \"text\": \"<text>\"\\n9. Read file: \"read_file\", args: \"file\": \"<file>\"\\n10. Append to file: \"append_to_file\", args: \"file\": \"<file>\", \"text\": \"<text>\"\\n11. Delete file: \"delete_file\", args: \"file\": \"<file>\"\\n12. Search Files: \"search_files\", args: \"directory\": \"<directory>\"\\n13. Analyze Code: \"analyze_code\", args: \"code\": \"<full_code_string>\"\\n14. Get Improved Code: \"improve_code\", args: \"suggestions\": \"<list_of_suggestions>\", \"code\": \"<full_code_string>\"\\n15. Write Tests: \"write_tests\", args: \"code\": \"<full_code_string>\", \"focus\": \"<list_of_focus_areas>\"\\n16. Execute Python File: \"execute_python_file\", args: \"file\": \"<file>\"\\n17. Generate Image: \"generate_image\", args: \"prompt\": \"<prompt>\"\\n18. Send Tweet: \"send_tweet\", args: \"text\": \"<text>\"\\n19. Do Nothing: \"do_nothing\", args:\\n20. Task Complete (Shutdown): \"task_complete\", args: \"reason\": \"<reason>\"\\n\\nResources:\\n1. Internet access for searches and information gathering.\\n2. Long Term memory management.\\n3. GPT-3.5 powered Agents for delegation of simple tasks.\\n4. File output.\\n\\nPerformance Evaluation:\\n1. Continuously review and analyze your actions to ensure you are performing to the best of your abilities.\\n2. Constructively self-criticize your big-picture behavior constantly.\\n3. Reflect on past decisions and strategies to refine your approach.\\n4. Every command has a cost, so be smart and efficient. Aim to complete tasks in the least number of steps.\\n\\nYou should only respond in JSON format as described below\\nResponse Format:\\n{\\n    \"thoughts\": {\\n        \"text\": \"thought\",\\n        \"reasoning\": \"reasoning\",\\n        \"plan\": \"- short bulleted\\\\n- list that conveys\\\\n- long-term plan\",\\n        \"criticism\": \"constructive self-criticism\",\\n        \"speak\": \"thoughts summary to say to user\"\\n    },\\n    \"command\": {\\n        \"name\": \"command name\",\\n        \"args\": {\\n            \"arg name\": \"value\"\\n        }\\n    }\\n}\\nEnsure the response can be parsed by Python json.loads\\nGPT-Engineer is another project to create a whole repository of code given a task specified in natural language. The GPT-Engineer is instructed to think over a list of smaller components to build and ask for user input to clarify questions as needed.\\nHere are a sample conversation for task clarification sent to OpenAI ChatCompletion endpoint used by GPT-Engineer. The user inputs are wrapped in {{user input text}}.\\n[\\n  {\\n    \"role\": \"system\",\\n    \"content\": \"You will read instructions and not carry them out, only seek to clarify them.\\\\nSpecifically you will first summarise a list of super short bullets of areas that need clarification.\\\\nThen you will pick one clarifying question, and wait for an answer from the user.\\\\n\"\\n  },\\n  {\\n    \"role\": \"user\",\\n    \"content\": \"We are writing {{a Super Mario game in python. MVC components split in separate files. Keyboard control.}}\\\\n\"\\n  },\\n  {\\n    \"role\": \"assistant\",\\n    \"content\": \"Summary of areas that need clarification:\\\\n1. Specifics of the Super Mario game (e.g. level design, characters, gameplay mechanics)\\\\n2. Details about the MVC components (e.g. which components are in each file)\\\\n3. Keyboard control implementation (e.g. which keys to use, how to handle input)\\\\n\\\\nClarifying question:\\\\nCan you provide more details about the Super Mario game, such as level design, characters, and gameplay mechanics?\"\\n  },\\n  {\\n    \"role\": \"user\",\\n    \"content\": \"{{There are 10 levels in total. The main character is a plumber named Mario, who can walk and jump. It is a classical platform game just like Super Mario. The main character moves from left to right, trying to get to the destination, where there are many obstacles and attacks from enemies in the process.}}\\\\n\\\\nIs anything else unclear? If yes, only answer in the form:\\\\n{remaining unclear areas} remaining questions.\\\\n{Next question}\\\\nIf everything is sufficiently clear, only answer \\\\\"Nothing more to clarify.\\\\\".\"\\n  },\\n  {\\n    \"role\": \"assistant\",\\n    \"content\": \"Remaining unclear areas: 2 remaining questions.\\\\nCan you provide more information about how the MVC components are split into separate files?\"\\n  },\\n  {\\n    \"role\": \"user\",\\n    \"content\": \"{{Make your own assumptions and state them explicitly before starting}}\"\\n  }\\n]\\nThen after these clarification, the agent moved into the code writing mode with a different system message.\\nSystem message:\\n\\nYou will get instructions for code to write.\\nYou will write a very long answer. Make sure that every detail of the architecture is, in the end, implemented as code.\\nMake sure that every detail of the architecture is, in the end, implemented as code.\\nThink step by step and reason yourself to the right decisions to make sure we get it right.\\nYou will first lay out the names of the core classes, functions, methods that will be necessary, as well as a quick comment on their purpose.\\nThen you will output the content of each file including ALL code.\\nEach file must strictly follow a markdown code block format, where the following tokens must be replaced such that\\nFILENAME is the lowercase file name including the file extension,\\nLANG is the markup code block language for the code’s language, and CODE is the code:\\nFILENAME\\nCODE\\nYou will start with the “entrypoint” file, then go to the ones that are imported by that file, and so on.\\nPlease note that the code should be fully functional. No placeholders.\\nFollow a language and framework appropriate best practice file naming convention.\\nMake sure that files contain all imports, types etc. Make sure that code in different files are compatible with each other.\\nEnsure to implement all code, if you are unsure, write a plausible implementation.\\nInclude module dependency or package manager dependency definition file.\\nBefore you finish, double check that all parts of the architecture is present in the files.\\nUseful to know:\\nYou almost always put different classes in different files.\\nFor Python, you always create an appropriate requirements.txt file.\\nFor NodeJS, you always create an appropriate package.json file.\\nYou always add a comment briefly describing the purpose of the function definition.\\nYou try to add comments explaining very complex bits of logic.\\nYou always follow the best practices for the requested languages in terms of describing the code written as a defined\\npackage/project.\\nPython toolbelt preferences:\\n\\npytest\\ndataclasses\\n\\n\\nConversatin samples:\\n[\\n  {\\n    \"role\": \"system\",\\n    \"content\": \"You will get instructions for code to write.\\\\nYou will write a very long answer. Make sure that every detail of the architecture is, in the end, implemented as code.\\\\nMake sure that every detail of the architecture is, in the end, implemented as code.\\\\n\\\\nThink step by step and reason yourself to the right decisions to make sure we get it right.\\\\nYou will first lay out the names of the core classes, functions, methods that will be necessary, as well as a quick comment on their purpose.\\\\n\\\\nThen you will output the content of each file including ALL code.\\\\nEach file must strictly follow a markdown code block format, where the following tokens must be replaced such that\\\\nFILENAME is the lowercase file name including the file extension,\\\\nLANG is the markup code block language for the code\\'s language, and CODE is the code:\\\\n\\\\nFILENAME\\\\n```LANG\\\\nCODE\\\\n```\\\\n\\\\nYou will start with the \\\\\"entrypoint\\\\\" file, then go to the ones that are imported by that file, and so on.\\\\nPlease note that the code should be fully functional. No placeholders.\\\\n\\\\nFollow a language and framework appropriate best practice file naming convention.\\\\nMake sure that files contain all imports, types etc. Make sure that code in different files are compatible with each other.\\\\nEnsure to implement all code, if you are unsure, write a plausible implementation.\\\\nInclude module dependency or package manager dependency definition file.\\\\nBefore you finish, double check that all parts of the architecture is present in the files.\\\\n\\\\nUseful to know:\\\\nYou almost always put different classes in different files.\\\\nFor Python, you always create an appropriate requirements.txt file.\\\\nFor NodeJS, you always create an appropriate package.json file.\\\\nYou always add a comment briefly describing the purpose of the function definition.\\\\nYou try to add comments explaining very complex bits of logic.\\\\nYou always follow the best practices for the requested languages in terms of describing the code written as a defined\\\\npackage/project.\\\\n\\\\n\\\\nPython toolbelt preferences:\\\\n- pytest\\\\n- dataclasses\\\\n\"\\n  },\\n #  … same conversation as earlier, ended with \"Make your own assumptions and state them explicitly before starting\".\\n  {\\n    \"role\": \"assistant\",\\n    \"content\": \"Assumptions:\\\\n1. Model: The model will contain the game\\'s data, such as level information, character states, and enemy positions.\\\\n2. View: The view will handle the game\\'s visuals, including rendering the game objects, backgrounds, and updating the display.\\\\n3. Controller: The controller will manage user input, such as keyboard controls, and update the model accordingly.\\\\n\\\\nWith these assumptions in mind, is there any specific aspect of the keyboard control implementation you would like me to clarify?\"\\n  },\\n  {\\n    \"role\": \"user\",\\n    \"content\": \"Please now remember the steps:\\\\n\\\\nThink step by step and reason yourself to the right decisions to make sure we get it right.\\\\nFirst lay out the names of the core classes, functions, methods that will be necessary, As well as a quick comment on their purpose.\\\\n\\\\nThen you will output the content of each file including ALL code.\\\\nEach file must strictly follow a markdown code block format, where the following tokens must be replaced such that\\\\nFILENAME is the lowercase file name including the file extension,\\\\nLANG is the markup code block language for the code\\'s language, and CODE is the code:\\\\n\\\\nFILENAME\\\\n```LANG\\\\nCODE\\\\n```\\\\n\\\\nPlease note that the code should be fully functional. No placeholders.\\\\n\\\\nYou will start with the \\\\\"entrypoint\\\\\" file, then go to the ones that are imported by that file, and so on.\\\\nFollow a language and framework appropriate best practice file naming convention.\\\\nMake sure that files contain all imports, types etc. The code should be fully functional. Make sure that code in different files are compatible with each other.\\\\nBefore you finish, double check that all parts of the architecture is present in the files.\\\\n\"\\n  }\\n]\\nChallenges#\\nAfter going through key ideas and demos of building LLM-centered agents, I start to see a couple common limitations:\\n\\n\\nFinite context length: The restricted context capacity limits the inclusion of historical information, detailed instructions, API call context, and responses. The design of the system has to work with this limited communication bandwidth, while mechanisms like self-reflection to learn from past mistakes would benefit a lot from long or infinite context windows. Although vector stores and retrieval can provide access to a larger knowledge pool, their representation power is not as powerful as full attention.\\n\\n\\nChallenges in long-term planning and task decomposition: Planning over a lengthy history and effectively exploring the solution space remain challenging. LLMs struggle to adjust plans when faced with unexpected errors, making them less robust compared to humans who learn from trial and error.\\n\\n\\nReliability of natural language interface: Current agent system relies on natural language as an interface between LLMs and external components such as memory and tools. However, the reliability of model outputs is questionable, as LLMs may make formatting errors and occasionally exhibit rebellious behavior (e.g. refuse to follow an instruction). Consequently, much of the agent demo code focuses on parsing model output.\\n\\n\\nCitation#\\nCited as:\\n\\nWeng, Lilian. (Jun 2023). LLM-powered Autonomous Agents\". Lil’Log. https://lilianweng.github.io/posts/2023-06-23-agent/.\\n\\nOr\\n@article{weng2023prompt,\\n  title   = \"LLM-powered Autonomous Agents\"\",\\n  author  = \"Weng, Lilian\",\\n  journal = \"lilianweng.github.io\",\\n  year    = \"2023\",\\n  month   = \"Jun\",\\n  url     = \"https://lilianweng.github.io/posts/2023-06-23-agent/\"\\n}\\nReferences#\\n[1] Wei et al. “Chain of thought prompting elicits reasoning in large language models.” NeurIPS 2022\\n[2] Yao et al. “Tree of Thoughts: Dliberate Problem Solving with Large Language Models.” arXiv preprint arXiv:2305.10601 (2023).\\n[3] Liu et al. “Chain of Hindsight Aligns Language Models with Feedback\\n“ arXiv preprint arXiv:2302.02676 (2023).\\n[4] Liu et al. “LLM+P: Empowering Large Language Models with Optimal Planning Proficiency” arXiv preprint arXiv:2304.11477 (2023).\\n[5] Yao et al. “ReAct: Synergizing reasoning and acting in language models.” ICLR 2023.\\n[6] Google Blog. “Announcing ScaNN: Efficient Vector Similarity Search” July 28, 2020.\\n[7] https://chat.openai.com/share/46ff149e-a4c7-4dd7-a800-fc4a642ea389\\n[8] Shinn & Labash. “Reflexion: an autonomous agent with dynamic memory and self-reflection” arXiv preprint arXiv:2303.11366 (2023).\\n[9] Laskin et al. “In-context Reinforcement Learning with Algorithm Distillation” ICLR 2023.\\n[10] Karpas et al. “MRKL Systems A modular, neuro-symbolic architecture that combines large language models, external knowledge sources and discrete reasoning.” arXiv preprint arXiv:2205.00445 (2022).\\n[11] Weaviate Blog. Why is Vector Search so fast? Sep 13, 2022.\\n[12] Li et al. “API-Bank: A Benchmark for Tool-Augmented LLMs” arXiv preprint arXiv:2304.08244 (2023).\\n[13] Shen et al. “HuggingGPT: Solving AI Tasks with ChatGPT and its Friends in HuggingFace” arXiv preprint arXiv:2303.17580 (2023).\\n[14] Bran et al. “ChemCrow: Augmenting large-language models with chemistry tools.” arXiv preprint arXiv:2304.05376 (2023).\\n[15] Boiko et al. “Emergent autonomous scientific research capabilities of large language models.” arXiv preprint arXiv:2304.05332 (2023).\\n[16] Joon Sung Park, et al. “Generative Agents: Interactive Simulacra of Human Behavior.” arXiv preprint arXiv:2304.03442 (2023).\\n[17] AutoGPT. https://github.com/Significant-Gravitas/Auto-GPT\\n[18] GPT-Engineer. https://github.com/AntonOsika/gpt-engineer\\n', metadata={'source': 'https://lilianweng.github.io/posts/2023-06-23-agent/'})]"
            ]
          },
          "execution_count": 3,
          "metadata": {},
          "output_type": "execute_result"
        }
      ],
      "source": [
        "# Load, chunk and index the contents of the blog.\n",
        "loader = WebBaseLoader(\n",
        "    web_paths=(\"https://lilianweng.github.io/posts/2023-06-23-agent/\",),\n",
        "    bs_kwargs=dict(\n",
        "        parse_only=bs4.SoupStrainer(\n",
        "            class_=(\"post-content\", \"post-title\", \"post-header\")\n",
        "        )\n",
        "    ),\n",
        ")\n",
        "docs = loader.load()\n",
        "docs"
      ]
    },
    {
      "cell_type": "code",
      "execution_count": 4,
      "id": "820244ae-74b4-4593-b392-822979dd91b8",
      "metadata": {
        "id": "820244ae-74b4-4593-b392-822979dd91b8"
      },
      "outputs": [],
      "source": [
        "text_splitter = RecursiveCharacterTextSplitter(chunk_size=1000, chunk_overlap=200)\n",
        "splits = text_splitter.split_documents(docs)\n",
        "vectorstore = Chroma.from_documents(documents=splits, embedding=OpenAIEmbeddings())\n"
      ]
    },
    {
      "cell_type": "code",
      "execution_count": 5,
      "id": "17bd786d",
      "metadata": {},
      "outputs": [],
      "source": [
        "\n",
        "# Retrieve and generate using the relevant snippets of the blog.\n",
        "retriever = vectorstore.as_retriever()\n",
        "prompt = hub.pull(\"rlm/rag-prompt\")\n",
        "\n",
        "llm = ChatOpenAI(model_name=\"gpt-3.5-turbo\", temperature=0)\n",
        "\n",
        "\n",
        "def format_docs(docs):\n",
        "    return \"\\n\\n\".join(doc.page_content for doc in docs)\n",
        "\n",
        "\n",
        "rag_chain = (\n",
        "    {\"context\": retriever | format_docs, \"question\": RunnablePassthrough()}\n",
        "    | prompt\n",
        "    | llm\n",
        "    | StrOutputParser()\n",
        ")"
      ]
    },
    {
      "cell_type": "code",
      "execution_count": 7,
      "id": "42c8b7d0",
      "metadata": {},
      "outputs": [
        {
          "data": {
            "text/plain": [
              "ChatPromptTemplate(input_variables=['context', 'question'], messages=[HumanMessagePromptTemplate(prompt=PromptTemplate(input_variables=['context', 'question'], template=\"You are an assistant for question-answering tasks. Use the following pieces of retrieved context to answer the question. If you don't know the answer, just say that you don't know. Use three sentences maximum and keep the answer concise.\\nQuestion: {question} \\nContext: {context} \\nAnswer:\"))])"
            ]
          },
          "execution_count": 7,
          "metadata": {},
          "output_type": "execute_result"
        }
      ],
      "source": [
        "prompt"
      ]
    },
    {
      "cell_type": "code",
      "execution_count": 8,
      "id": "0d3b0f36-7b56-49c0-8e40-a1aa9ebcbf24",
      "metadata": {
        "id": "0d3b0f36-7b56-49c0-8e40-a1aa9ebcbf24",
        "outputId": "22a5e67c-d8f1-434a-bb8f-ef18fd76489b"
      },
      "outputs": [
        {
          "data": {
            "text/plain": [
              "'Task Decomposition is a technique used to break down complex tasks into smaller and simpler steps. This approach helps agents or models to better understand and tackle challenging tasks effectively. Task decomposition can be achieved through various methods such as prompting, task-specific instructions, or human inputs.'"
            ]
          },
          "execution_count": 8,
          "metadata": {},
          "output_type": "execute_result"
        }
      ],
      "source": [
        "rag_chain.invoke(\"What is Task Decomposition?\")"
      ]
    },
    {
      "cell_type": "code",
      "execution_count": null,
      "id": "7cb344e0-c423-400c-a079-964c08e07e32",
      "metadata": {
        "id": "7cb344e0-c423-400c-a079-964c08e07e32"
      },
      "outputs": [],
      "source": [
        "# cleanup\n",
        "vectorstore.delete_collection()"
      ]
    },
    {
      "cell_type": "markdown",
      "id": "639dc31a-7f16-40f6-ba2a-20e7c2ecfe60",
      "metadata": {
        "id": "639dc31a-7f16-40f6-ba2a-20e7c2ecfe60"
      },
      "source": [
        ":::tip\n",
        "\n",
        "Check out the [LangSmith trace](https://smith.langchain.com/public/1c6ca97e-445b-4d00-84b4-c7befcbc59fe/r)\n",
        "\n",
        ":::"
      ]
    },
    {
      "cell_type": "markdown",
      "id": "842cf72d-abbc-468e-a2eb-022470347727",
      "metadata": {
        "id": "842cf72d-abbc-468e-a2eb-022470347727"
      },
      "source": [
        "## Detailed walkthrough\n",
        "\n",
        "Let's go through the above code step-by-step to really understand what's going on."
      ]
    },
    {
      "cell_type": "markdown",
      "id": "ba5daed6",
      "metadata": {
        "id": "ba5daed6"
      },
      "source": [
        "## 1. Indexing: Load\n",
        "\n",
        "We need to first load the blog post contents. We can use [DocumentLoaders](/docs/modules/data_connection/document_loaders/) for this, which are objects that load in data from a source and return a list of [Documents](https://api.python.langchain.com/en/latest/documents/langchain_core.documents.base.Document.html).  A `Document` is an object with some `page_content` (str) and `metadata` (dict).\n",
        "\n",
        "In this case we'll use the [WebBaseLoader](/docs/integrations/document_loaders/web_base), which uses `urllib` to load HTML from web URLs and `BeautifulSoup` to parse it to text. We can customize the HTML -> text parsing by passing in parameters to the `BeautifulSoup` parser via `bs_kwargs` (see [BeautifulSoup docs](https://beautiful-soup-4.readthedocs.io/en/latest/#beautifulsoup)). In this case only HTML tags with class \"post-content\", \"post-title\", or \"post-header\" are relevant, so we'll remove all others."
      ]
    },
    {
      "cell_type": "code",
      "execution_count": null,
      "id": "cf4d5c72",
      "metadata": {
        "id": "cf4d5c72"
      },
      "outputs": [],
      "source": [
        "import bs4\n",
        "from langchain_community.document_loaders import WebBaseLoader\n",
        "\n",
        "# Only keep post title, headers, and content from the full HTML.\n",
        "bs4_strainer = bs4.SoupStrainer(class_=(\"post-title\", \"post-header\", \"post-content\"))\n",
        "loader = WebBaseLoader(\n",
        "    web_paths=(\"https://lilianweng.github.io/posts/2023-06-23-agent/\",),\n",
        "    bs_kwargs={\"parse_only\": bs4_strainer},\n",
        ")\n",
        "docs = loader.load()"
      ]
    },
    {
      "cell_type": "code",
      "execution_count": null,
      "id": "207f87a3-effa-4457-b013-6d233bc7a088",
      "metadata": {
        "id": "207f87a3-effa-4457-b013-6d233bc7a088",
        "outputId": "2d67e0bd-be59-42a1-bce9-3dc7108bf0e9"
      },
      "outputs": [
        {
          "data": {
            "text/plain": [
              "42824"
            ]
          },
          "execution_count": 9,
          "metadata": {},
          "output_type": "execute_result"
        }
      ],
      "source": [
        "len(docs[0].page_content)"
      ]
    },
    {
      "cell_type": "code",
      "execution_count": null,
      "id": "52469796-5ce4-4c12-bd2a-a903872dac33",
      "metadata": {
        "id": "52469796-5ce4-4c12-bd2a-a903872dac33",
        "outputId": "ae389a15-8696-41c2-aedb-b274eb86962d"
      },
      "outputs": [
        {
          "name": "stdout",
          "output_type": "stream",
          "text": [
            "\n",
            "\n",
            "      LLM Powered Autonomous Agents\n",
            "    \n",
            "Date: June 23, 2023  |  Estimated Reading Time: 31 min  |  Author: Lilian Weng\n",
            "\n",
            "\n",
            "Building agents with LLM (large language model) as its core controller is a cool concept. Several proof-of-concepts demos, such as AutoGPT, GPT-Engineer and BabyAGI, serve as inspiring examples. The potentiality of LLM extends beyond generating well-written copies, stories, essays and programs; it can be framed as a powerful general problem solver.\n",
            "Agent System Overview#\n",
            "In\n"
          ]
        }
      ],
      "source": [
        "print(docs[0].page_content[:500])"
      ]
    },
    {
      "cell_type": "markdown",
      "id": "ee5c6556-56be-4067-adbc-98b5aa19ef6e",
      "metadata": {
        "id": "ee5c6556-56be-4067-adbc-98b5aa19ef6e"
      },
      "source": [
        "### Go deeper\n",
        "`DocumentLoader`: Object that loads data from a source as list of `Documents`.\n",
        "- [Docs](/docs/modules/data_connection/document_loaders/): Detailed documentation on how to use `DocumentLoaders`.\n",
        "- [Integrations](/docs/integrations/document_loaders/): 160+ integrations to choose from.\n",
        "- [Interface](https://api.python.langchain.com/en/latest/document_loaders/langchain_community.document_loaders.base.BaseLoader.html): API reference  for the base interface."
      ]
    },
    {
      "cell_type": "markdown",
      "id": "fd2cc9a7",
      "metadata": {
        "id": "fd2cc9a7"
      },
      "source": [
        "## 2. Indexing: Split\n",
        "\n",
        "Our loaded document is over 42k characters long. This is too long to fit in the context window of many models. Even for those models that could fit the full post in their context window, models can struggle to find information in very long inputs.\n",
        "\n",
        "To handle this we'll split the `Document` into chunks for embedding and vector storage. This should help us retrieve only the most relevant bits of the blog post at run time.\n",
        "\n",
        "In this case we'll split our documents into chunks of 1000 characters with 200 characters of overlap between chunks. The overlap helps mitigate the possibility of separating a statement from important context related to it. We use the [RecursiveCharacterTextSplitter](/docs/modules/data_connection/document_transformers/recursive_text_splitter), which will recursively split the document using common separators like new lines until each chunk is the appropriate size. This is the recommended text splitter for generic text use cases.\n",
        "\n",
        "We set `add_start_index=True` so that the character index at which each split Document starts within the initial Document is preserved as metadata attribute \"start_index\"."
      ]
    },
    {
      "cell_type": "code",
      "execution_count": null,
      "id": "4b11c01d",
      "metadata": {
        "id": "4b11c01d"
      },
      "outputs": [],
      "source": [
        "from langchain_text_splitters import RecursiveCharacterTextSplitter\n",
        "\n",
        "text_splitter = RecursiveCharacterTextSplitter(\n",
        "    chunk_size=1000, chunk_overlap=200, add_start_index=True\n",
        ")\n",
        "all_splits = text_splitter.split_documents(docs)"
      ]
    },
    {
      "cell_type": "code",
      "execution_count": null,
      "id": "3741eb67-9caf-40f2-a001-62f49349bff5",
      "metadata": {
        "id": "3741eb67-9caf-40f2-a001-62f49349bff5",
        "outputId": "1820056f-cc59-4ed3-b988-8a9b84f3e5ae"
      },
      "outputs": [
        {
          "data": {
            "text/plain": [
              "66"
            ]
          },
          "execution_count": 12,
          "metadata": {},
          "output_type": "execute_result"
        }
      ],
      "source": [
        "len(all_splits)"
      ]
    },
    {
      "cell_type": "code",
      "execution_count": null,
      "id": "f868d0e5-5670-4d54-b562-f50265e907f4",
      "metadata": {
        "id": "f868d0e5-5670-4d54-b562-f50265e907f4",
        "outputId": "80d6ff50-474a-49f9-f4a7-8a5a1762c3d0"
      },
      "outputs": [
        {
          "data": {
            "text/plain": [
              "969"
            ]
          },
          "execution_count": 13,
          "metadata": {},
          "output_type": "execute_result"
        }
      ],
      "source": [
        "len(all_splits[0].page_content)"
      ]
    },
    {
      "cell_type": "code",
      "execution_count": null,
      "id": "5c9e5f27-c8e3-4ca7-8a8e-45c5de2901cc",
      "metadata": {
        "id": "5c9e5f27-c8e3-4ca7-8a8e-45c5de2901cc",
        "outputId": "8554b68f-78a8-4fa8-f367-1a55353cb1fb"
      },
      "outputs": [
        {
          "data": {
            "text/plain": [
              "{'source': 'https://lilianweng.github.io/posts/2023-06-23-agent/',\n",
              " 'start_index': 7056}"
            ]
          },
          "execution_count": 14,
          "metadata": {},
          "output_type": "execute_result"
        }
      ],
      "source": [
        "all_splits[10].metadata"
      ]
    },
    {
      "cell_type": "markdown",
      "id": "0a33bd4d",
      "metadata": {
        "id": "0a33bd4d"
      },
      "source": [
        "### Go deeper\n",
        "\n",
        "`TextSplitter`: Object that splits a list of `Document`s into smaller chunks. Subclass of `DocumentTransformer`s.\n",
        "- Explore `Context-aware splitters`, which keep the location (\"context\") of each split in the original `Document`:\n",
        "    - [Markdown files](/docs/modules/data_connection/document_transformers/markdown_header_metadata)\n",
        "    - [Code (py or js)](/docs/integrations/document_loaders/source_code)\n",
        "    - [Scientific papers](/docs/integrations/document_loaders/grobid)\n",
        "- [Interface](https://api.python.langchain.com/en/latest/text_splitter/langchain_text_splitters.TextSplitter.html): API reference for the base interface.\n",
        "\n",
        "`DocumentTransformer`: Object that performs a transformation on a list of `Document`s.\n",
        "- [Docs](/docs/modules/data_connection/document_transformers/): Detailed documentation on how to use `DocumentTransformers`\n",
        "- [Integrations](/docs/integrations/document_transformers/)\n",
        "- [Interface](https://api.python.langchain.com/en/latest/documents/langchain_core.documents.transformers.BaseDocumentTransformer.html): API reference for the base interface.\n"
      ]
    },
    {
      "cell_type": "markdown",
      "id": "46547031-2352-4321-9970-d6ea27285c2e",
      "metadata": {
        "id": "46547031-2352-4321-9970-d6ea27285c2e"
      },
      "source": [
        "## 3. Indexing: Store\n",
        "\n",
        "Now we need to index our 66 text chunks so that we can search over them at runtime. The most common way to do this is to embed the contents of each document split and insert these embeddings into a vector database (or vector store). When we want to search over our splits, we take a text search query, embed it, and perform some sort of \"similarity\" search to identify the stored splits with the most similar embeddings to our query embedding. The simplest similarity measure is cosine similarity — we measure the cosine of the angle between each pair of embeddings (which are high dimensional vectors).\n",
        "\n",
        "We can embed and store all of our document splits in a single command using the [Chroma](/docs/integrations/vectorstores/chroma) vector store and [OpenAIEmbeddings](/docs/integrations/text_embedding/openai) model."
      ]
    },
    {
      "cell_type": "code",
      "execution_count": null,
      "id": "e9c302c8",
      "metadata": {
        "id": "e9c302c8"
      },
      "outputs": [],
      "source": [
        "from langchain_community.vectorstores import Chroma\n",
        "from langchain_openai import OpenAIEmbeddings\n",
        "\n",
        "vectorstore = Chroma.from_documents(documents=all_splits, embedding=OpenAIEmbeddings())"
      ]
    },
    {
      "cell_type": "markdown",
      "id": "dc6f22b0",
      "metadata": {
        "id": "dc6f22b0"
      },
      "source": [
        "### Go deeper\n",
        "`Embeddings`: Wrapper around a text embedding model, used for converting text to embeddings.\n",
        "- [Docs](/docs/modules/data_connection/text_embedding): Detailed documentation on how to use embeddings.\n",
        "- [Integrations](/docs/integrations/text_embedding/): 30+ integrations to choose from.\n",
        "- [Interface](https://api.python.langchain.com/en/latest/embeddings/langchain_core.embeddings.Embeddings.html): API reference for the base interface.\n",
        "\n",
        "`VectorStore`: Wrapper around a vector database, used for storing and querying embeddings.\n",
        "- [Docs](/docs/modules/data_connection/vectorstores/): Detailed documentation on how to use vector stores.\n",
        "- [Integrations](/docs/integrations/vectorstores/): 40+ integrations to choose from.\n",
        "- [Interface](https://api.python.langchain.com/en/latest/vectorstores/langchain_core.vectorstores.VectorStore.html): API reference for the base interface.\n",
        "\n",
        "This completes the **Indexing** portion of the pipeline. At this point we have a query-able vector store containing the chunked contents of our blog post. Given a user question, we should ideally be able to return the snippets of the blog post that answer the question."
      ]
    },
    {
      "cell_type": "markdown",
      "id": "70d64d40-e475-43d9-b64c-925922bb5ef7",
      "metadata": {
        "id": "70d64d40-e475-43d9-b64c-925922bb5ef7"
      },
      "source": [
        "## 4. Retrieval and Generation: Retrieve\n",
        "\n",
        "Now let's write the actual application logic. We want to create a simple application that takes a user question, searches for documents relevant to that question, passes the retrieved documents and initial question to a model, and returns an answer.\n",
        "\n",
        "First we need to define our logic for searching over documents. LangChain defines a [Retriever](/docs/modules/data_connection/retrievers/) interface which wraps an index that can return relevant `Documents` given a string query.\n",
        "\n",
        "The most common type of `Retriever` is the [VectorStoreRetriever](/docs/modules/data_connection/retrievers/vectorstore), which uses the similarity search capabilities of a vector store to facilitate retrieval. Any `VectorStore` can easily be turned into a `Retriever` with `VectorStore.as_retriever()`:"
      ]
    },
    {
      "cell_type": "code",
      "execution_count": null,
      "id": "4414df0d-5d43-46d0-85a9-5f47be0dd099",
      "metadata": {
        "id": "4414df0d-5d43-46d0-85a9-5f47be0dd099"
      },
      "outputs": [],
      "source": [
        "retriever = vectorstore.as_retriever(search_type=\"similarity\", search_kwargs={\"k\": 6})"
      ]
    },
    {
      "cell_type": "code",
      "execution_count": null,
      "id": "e2c26b7d",
      "metadata": {
        "id": "e2c26b7d"
      },
      "outputs": [],
      "source": [
        "retrieved_docs = retriever.invoke(\"What are the approaches to Task Decomposition?\")"
      ]
    },
    {
      "cell_type": "code",
      "execution_count": null,
      "id": "8684291d-0f5e-453a-8d3e-ff9feea765d0",
      "metadata": {
        "id": "8684291d-0f5e-453a-8d3e-ff9feea765d0",
        "outputId": "57b225d9-c9e3-475c-8377-0166038c4fc4"
      },
      "outputs": [
        {
          "data": {
            "text/plain": [
              "6"
            ]
          },
          "execution_count": 18,
          "metadata": {},
          "output_type": "execute_result"
        }
      ],
      "source": [
        "len(retrieved_docs)"
      ]
    },
    {
      "cell_type": "code",
      "execution_count": null,
      "id": "9a5dc074-816d-409a-b005-ab4eddfd76af",
      "metadata": {
        "id": "9a5dc074-816d-409a-b005-ab4eddfd76af",
        "outputId": "9c5ae68a-f467-42a4-c4b1-67aa4476f611"
      },
      "outputs": [
        {
          "name": "stdout",
          "output_type": "stream",
          "text": [
            "Tree of Thoughts (Yao et al. 2023) extends CoT by exploring multiple reasoning possibilities at each step. It first decomposes the problem into multiple thought steps and generates multiple thoughts per step, creating a tree structure. The search process can be BFS (breadth-first search) or DFS (depth-first search) with each state evaluated by a classifier (via a prompt) or majority vote.\n",
            "Task decomposition can be done (1) by LLM with simple prompting like \"Steps for XYZ.\\n1.\", \"What are the subgoals for achieving XYZ?\", (2) by using task-specific instructions; e.g. \"Write a story outline.\" for writing a novel, or (3) with human inputs.\n"
          ]
        }
      ],
      "source": [
        "print(retrieved_docs[0].page_content)"
      ]
    },
    {
      "cell_type": "markdown",
      "id": "5d5a113b",
      "metadata": {
        "id": "5d5a113b"
      },
      "source": [
        "### Go deeper\n",
        "Vector stores are commonly used for retrieval, but there are other ways to do retrieval, too.\n",
        "\n",
        "`Retriever`: An object that returns `Document`s given a text query\n",
        "\n",
        "- [Docs](/docs/modules/data_connection/retrievers/): Further documentation on the interface and built-in retrieval techniques. Some of which include:\n",
        "    - `MultiQueryRetriever` [generates variants of the input question](/docs/modules/data_connection/retrievers/MultiQueryRetriever) to improve retrieval hit rate.\n",
        "    - `MultiVectorRetriever` (diagram below) instead generates [variants of the embeddings](/docs/modules/data_connection/retrievers/multi_vector), also in order to improve retrieval hit rate.\n",
        "    - `Max marginal relevance` selects for [relevance and diversity](https://www.cs.cmu.edu/~jgc/publication/The_Use_MMR_Diversity_Based_LTMIR_1998.pdf) among the retrieved documents to avoid passing in duplicate context.\n",
        "    - Documents can be filtered during vector store retrieval using metadata filters, such as with a [Self Query Retriever](/docs/modules/data_connection/retrievers/self_query).\n",
        "- [Integrations](/docs/integrations/retrievers/): Integrations with retrieval services.\n",
        "- [Interface](https://api.python.langchain.com/en/latest/retrievers/langchain_core.retrievers.BaseRetriever.html): API reference for the base interface."
      ]
    },
    {
      "cell_type": "markdown",
      "id": "415d6824",
      "metadata": {
        "id": "415d6824"
      },
      "source": [
        "## 5. Retrieval and Generation: Generate\n",
        "\n",
        "Let's put it all together into a chain that takes a question, retrieves relevant documents, constructs a prompt, passes that to a model, and parses the output.\n",
        "\n",
        "We'll use the gpt-3.5-turbo OpenAI chat model, but any LangChain `LLM` or `ChatModel` could be substituted in."
      ]
    },
    {
      "cell_type": "code",
      "execution_count": null,
      "id": "d34d998c-9abf-4e01-a4ad-06dadfcf131c",
      "metadata": {
        "id": "d34d998c-9abf-4e01-a4ad-06dadfcf131c"
      },
      "outputs": [],
      "source": [
        "from langchain_openai import ChatOpenAI\n",
        "\n",
        "llm = ChatOpenAI(model_name=\"gpt-3.5-turbo\", temperature=0)"
      ]
    },
    {
      "cell_type": "markdown",
      "id": "bc826723-36fc-45d1-a3ef-df8c2c8471a8",
      "metadata": {
        "id": "bc826723-36fc-45d1-a3ef-df8c2c8471a8"
      },
      "source": [
        "We'll use a prompt for RAG that is checked into the LangChain prompt hub ([here](https://smith.langchain.com/hub/rlm/rag-prompt))."
      ]
    },
    {
      "cell_type": "code",
      "execution_count": null,
      "id": "bede955b-9aeb-4fd3-964d-8e43f214ce70",
      "metadata": {
        "id": "bede955b-9aeb-4fd3-964d-8e43f214ce70"
      },
      "outputs": [],
      "source": [
        "from langchain import hub\n",
        "\n",
        "prompt = hub.pull(\"rlm/rag-prompt\")"
      ]
    },
    {
      "cell_type": "code",
      "execution_count": null,
      "id": "11c35354-f275-47ec-9f72-ebd5c23731eb",
      "metadata": {
        "id": "11c35354-f275-47ec-9f72-ebd5c23731eb",
        "outputId": "31769a1d-51d9-44da-a37f-3750e73ef5d5"
      },
      "outputs": [
        {
          "data": {
            "text/plain": [
              "[HumanMessage(content=\"You are an assistant for question-answering tasks. Use the following pieces of retrieved context to answer the question. If you don't know the answer, just say that you don't know. Use three sentences maximum and keep the answer concise.\\nQuestion: filler question \\nContext: filler context \\nAnswer:\")]"
            ]
          },
          "execution_count": 22,
          "metadata": {},
          "output_type": "execute_result"
        }
      ],
      "source": [
        "example_messages = prompt.invoke(\n",
        "    {\"context\": \"filler context\", \"question\": \"filler question\"}\n",
        ").to_messages()\n",
        "example_messages"
      ]
    },
    {
      "cell_type": "code",
      "execution_count": null,
      "id": "2ccc50fa-5fa2-4f80-8685-58ec2255523a",
      "metadata": {
        "id": "2ccc50fa-5fa2-4f80-8685-58ec2255523a",
        "outputId": "cfda4942-efd7-4e79-e900-d47d79f3de88"
      },
      "outputs": [
        {
          "name": "stdout",
          "output_type": "stream",
          "text": [
            "You are an assistant for question-answering tasks. Use the following pieces of retrieved context to answer the question. If you don't know the answer, just say that you don't know. Use three sentences maximum and keep the answer concise.\n",
            "Question: filler question \n",
            "Context: filler context \n",
            "Answer:\n"
          ]
        }
      ],
      "source": [
        "print(example_messages[0].content)"
      ]
    },
    {
      "cell_type": "markdown",
      "id": "51f9a210-1eee-4054-99d7-9d9ddf7e3593",
      "metadata": {
        "id": "51f9a210-1eee-4054-99d7-9d9ddf7e3593"
      },
      "source": [
        "We'll use the [LCEL Runnable](/docs/expression_language/) protocol to define the chain, allowing us to\n",
        "- pipe together components and functions in a transparent way\n",
        "- automatically trace our chain in LangSmith\n",
        "- get streaming, async, and batched calling out of the box"
      ]
    },
    {
      "cell_type": "code",
      "execution_count": null,
      "id": "99fa1aec",
      "metadata": {
        "id": "99fa1aec"
      },
      "outputs": [],
      "source": [
        "from langchain_core.output_parsers import StrOutputParser\n",
        "from langchain_core.runnables import RunnablePassthrough\n",
        "\n",
        "\n",
        "def format_docs(docs):\n",
        "    return \"\\n\\n\".join(doc.page_content for doc in docs)\n",
        "\n",
        "\n",
        "rag_chain = (\n",
        "    {\"context\": retriever | format_docs, \"question\": RunnablePassthrough()}\n",
        "    | prompt\n",
        "    | llm\n",
        "    | StrOutputParser()\n",
        ")"
      ]
    },
    {
      "cell_type": "code",
      "execution_count": null,
      "id": "8655a152-d7cf-466f-b1bc-fbff9ae2b889",
      "metadata": {
        "id": "8655a152-d7cf-466f-b1bc-fbff9ae2b889",
        "outputId": "b9cb5c04-179c-4eb0-9845-03fa3824fa94"
      },
      "outputs": [
        {
          "name": "stdout",
          "output_type": "stream",
          "text": [
            "Task decomposition is a technique used to break down complex tasks into smaller and simpler steps. It involves transforming big tasks into multiple manageable tasks, allowing for easier interpretation and execution by autonomous agents or models. Task decomposition can be done through various methods, such as using prompting techniques, task-specific instructions, or human inputs."
          ]
        }
      ],
      "source": [
        "for chunk in rag_chain.stream(\"What is Task Decomposition?\"):\n",
        "    print(chunk, end=\"\", flush=True)"
      ]
    },
    {
      "cell_type": "markdown",
      "id": "2c000e5f-2b7f-4eb9-8876-9f4b186b4a08",
      "metadata": {
        "id": "2c000e5f-2b7f-4eb9-8876-9f4b186b4a08"
      },
      "source": [
        ":::tip\n",
        "\n",
        "Check out the [LangSmith trace](https://smith.langchain.com/public/1799e8db-8a6d-4eb2-84d5-46e8d7d5a99b/r)\n",
        "\n",
        ":::"
      ]
    },
    {
      "cell_type": "markdown",
      "id": "f7d52c84",
      "metadata": {
        "id": "f7d52c84"
      },
      "source": [
        "### Go deeper\n",
        "\n",
        "#### Choosing a model\n",
        "`ChatModel`: An LLM-backed chat model. Takes in a sequence of messages and returns a message.\n",
        "- [Docs](/docs/modules/model_io/chat/): Detailed documentation on\n",
        "- [Integrations](/docs/integrations/chat/): 25+ integrations to choose from.\n",
        "- [Interface](https://api.python.langchain.com/en/latest/language_models/langchain_core.language_models.chat_models.BaseChatModel.html): API reference for the base interface.\n",
        "\n",
        "`LLM`: A text-in-text-out LLM. Takes in a string and returns a string.\n",
        "- [Docs](/docs/modules/model_io/llms)\n",
        "- [Integrations](/docs/integrations/llms): 75+ integrations to choose from.\n",
        "- [Interface](https://api.python.langchain.com/en/latest/language_models/langchain_core.language_models.llms.BaseLLM.html): API reference for the base interface.\n",
        "\n",
        "See a guide on RAG with locally-running models [here](/docs/use_cases/question_answering/local_retrieval_qa)."
      ]
    },
    {
      "cell_type": "markdown",
      "id": "fa82f437",
      "metadata": {
        "id": "fa82f437"
      },
      "source": [
        "#### Customizing the prompt\n",
        "\n",
        "As shown above, we can load prompts (e.g., [this RAG prompt](https://smith.langchain.com/hub/rlm/rag-prompt)) from the prompt hub. The prompt can also be easily customized:"
      ]
    },
    {
      "cell_type": "code",
      "execution_count": null,
      "id": "e4fee704",
      "metadata": {
        "id": "e4fee704",
        "outputId": "2bc98a5b-4357-481f-e4f1-11c93080c893"
      },
      "outputs": [
        {
          "data": {
            "text/plain": [
              "'Task decomposition is a technique used to break down complex tasks into smaller and simpler steps. It involves transforming big tasks into multiple manageable tasks, allowing for a more systematic and organized approach to problem-solving. Thanks for asking!'"
            ]
          },
          "execution_count": 26,
          "metadata": {},
          "output_type": "execute_result"
        }
      ],
      "source": [
        "from langchain_core.prompts import PromptTemplate\n",
        "\n",
        "template = \"\"\"Use the following pieces of context to answer the question at the end.\n",
        "If you don't know the answer, just say that you don't know, don't try to make up an answer.\n",
        "Use three sentences maximum and keep the answer as concise as possible.\n",
        "Always say \"thanks for asking!\" at the end of the answer.\n",
        "\n",
        "{context}\n",
        "\n",
        "Question: {question}\n",
        "\n",
        "Helpful Answer:\"\"\"\n",
        "custom_rag_prompt = PromptTemplate.from_template(template)\n",
        "\n",
        "rag_chain = (\n",
        "    {\"context\": retriever | format_docs, \"question\": RunnablePassthrough()}\n",
        "    | custom_rag_prompt\n",
        "    | llm\n",
        "    | StrOutputParser()\n",
        ")\n",
        "\n",
        "rag_chain.invoke(\"What is Task Decomposition?\")"
      ]
    },
    {
      "cell_type": "code",
      "execution_count": null,
      "id": "129d73b7",
      "metadata": {},
      "outputs": [],
      "source": []
    },
    {
      "cell_type": "markdown",
      "id": "94b952e6-dc4b-415b-9cf3-1ad333e48366",
      "metadata": {
        "id": "94b952e6-dc4b-415b-9cf3-1ad333e48366"
      },
      "source": [
        ":::tip\n",
        "\n",
        "Check out the [LangSmith trace](https://smith.langchain.com/public/da23c4d8-3b33-47fd-84df-a3a582eedf84/r)\n",
        "\n",
        ":::"
      ]
    },
    {
      "cell_type": "markdown",
      "id": "580e18de-132d-4009-ba67-4aaf2c7717a2",
      "metadata": {
        "id": "580e18de-132d-4009-ba67-4aaf2c7717a2"
      },
      "source": [
        "## Next steps\n",
        "\n",
        "That's a lot of content we've covered in a short amount of time. There's plenty of features, integrations, and extensions to explore in each of the above sections. Along from the **Go deeper** sources mentioned above, good next steps include:\n",
        "\n",
        "- [Return sources](/docs/use_cases/question_answering/sources): Learn how to return source documents\n",
        "- [Streaming](/docs/use_cases/question_answering/streaming): Learn how to stream outputs and intermediate steps\n",
        "- [Add chat history](/docs/use_cases/question_answering/chat_history): Learn how to add chat history to your app"
      ]
    },
    {
      "cell_type": "code",
      "execution_count": 9,
      "id": "90cee9d9",
      "metadata": {},
      "outputs": [
        {
          "data": {
            "text/plain": [
              "{'context': [Document(page_content='Fig. 1. Overview of a LLM-powered autonomous agent system.\\nComponent One: Planning#\\nA complicated task usually involves many steps. An agent needs to know what they are and plan ahead.\\nTask Decomposition#\\nChain of thought (CoT; Wei et al. 2022) has become a standard prompting technique for enhancing model performance on complex tasks. The model is instructed to “think step by step” to utilize more test-time computation to decompose hard tasks into smaller and simpler steps. CoT transforms big tasks into multiple manageable tasks and shed lights into an interpretation of the model’s thinking process.', metadata={'source': 'https://lilianweng.github.io/posts/2023-06-23-agent/'}),\n",
              "  Document(page_content='Tree of Thoughts (Yao et al. 2023) extends CoT by exploring multiple reasoning possibilities at each step. It first decomposes the problem into multiple thought steps and generates multiple thoughts per step, creating a tree structure. The search process can be BFS (breadth-first search) or DFS (depth-first search) with each state evaluated by a classifier (via a prompt) or majority vote.\\nTask decomposition can be done (1) by LLM with simple prompting like \"Steps for XYZ.\\\\n1.\", \"What are the subgoals for achieving XYZ?\", (2) by using task-specific instructions; e.g. \"Write a story outline.\" for writing a novel, or (3) with human inputs.', metadata={'source': 'https://lilianweng.github.io/posts/2023-06-23-agent/'}),\n",
              "  Document(page_content='The AI assistant can parse user input to several tasks: [{\"task\": task, \"id\", task_id, \"dep\": dependency_task_ids, \"args\": {\"text\": text, \"image\": URL, \"audio\": URL, \"video\": URL}}]. The \"dep\" field denotes the id of the previous task which generates a new resource that the current task relies on. A special tag \"-task_id\" refers to the generated text image, audio and video in the dependency task with id as task_id. The task MUST be selected from the following options: {{ Available Task List }}. There is a logical relationship between tasks, please note their order. If the user input can\\'t be parsed, you need to reply empty JSON. Here are several cases for your reference: {{ Demonstrations }}. The chat history is recorded as {{ Chat History }}. From this chat history, you can find the path of the user-mentioned resources for your task planning.', metadata={'source': 'https://lilianweng.github.io/posts/2023-06-23-agent/'}),\n",
              "  Document(page_content='Fig. 11. Illustration of how HuggingGPT works. (Image source: Shen et al. 2023)\\nThe system comprises of 4 stages:\\n(1) Task planning: LLM works as the brain and parses the user requests into multiple tasks. There are four attributes associated with each task: task type, ID, dependencies, and arguments. They use few-shot examples to guide LLM to do task parsing and planning.\\nInstruction:', metadata={'source': 'https://lilianweng.github.io/posts/2023-06-23-agent/'})],\n",
              " 'question': 'What is Task Decomposition',\n",
              " 'answer': 'Task decomposition is a technique used to break down complex tasks into smaller and simpler steps, making it easier for agents to plan and execute them. It involves transforming big tasks into manageable subtasks, allowing for a more structured approach to problem-solving. This process can be facilitated by using prompting techniques like Chain of Thought or Tree of Thoughts, as well as task-specific instructions or human inputs.'}"
            ]
          },
          "execution_count": 9,
          "metadata": {},
          "output_type": "execute_result"
        }
      ],
      "source": [
        "from langchain_core.runnables import RunnableParallel\n",
        "\n",
        "rag_chain_from_docs = (\n",
        "    RunnablePassthrough.assign(context=(lambda x: format_docs(x[\"context\"])))\n",
        "    | prompt\n",
        "    | llm\n",
        "    | StrOutputParser()\n",
        ")\n",
        "\n",
        "rag_chain_with_source = RunnableParallel(\n",
        "    {\"context\": retriever, \"question\": RunnablePassthrough()}\n",
        ").assign(answer=rag_chain_from_docs)\n",
        "\n",
        "rag_chain_with_source.invoke(\"What is Task Decomposition\")"
      ]
    },
    {
      "cell_type": "code",
      "execution_count": 25,
      "id": "64482d5f",
      "metadata": {},
      "outputs": [],
      "source": [
        "from langchain_core.prompts import ChatPromptTemplate, MessagesPlaceholder\n",
        "\n",
        "contextualize_q_system_prompt = \"\"\"Given a chat history and the latest user question \\\n",
        "which might reference context in the chat history, formulate a standalone question \\\n",
        "which can be understood without the chat history. Do NOT answer the question, \\\n",
        "just reformulate it if needed and otherwise return it as is.\"\"\"\n",
        "contextualize_q_prompt = ChatPromptTemplate.from_messages(\n",
        "    [\n",
        "        (\"system\", contextualize_q_system_prompt),\n",
        "        MessagesPlaceholder(variable_name=\"chat_history\"),\n",
        "        (\"human\", \"{question}\"),\n",
        "    ]\n",
        ")\n",
        "contextualize_q_chain = contextualize_q_prompt | llm | StrOutputParser()"
      ]
    },
    {
      "cell_type": "code",
      "execution_count": 26,
      "id": "6ff3694b",
      "metadata": {},
      "outputs": [
        {
          "data": {
            "text/plain": [
              "'What is the definition of \"large\" in this context?'"
            ]
          },
          "execution_count": 26,
          "metadata": {},
          "output_type": "execute_result"
        }
      ],
      "source": [
        "from langchain_core.messages import AIMessage, HumanMessage\n",
        "\n",
        "contextualize_q_chain.invoke(\n",
        "    {\n",
        "        \"chat_history\": [\n",
        "            HumanMessage(content=\"What does LLM stand for?\"),\n",
        "            AIMessage(content=\"Large language model\"),\n",
        "        ],\n",
        "        \"question\": \"What is meant by large\",\n",
        "    }\n",
        ")"
      ]
    },
    {
      "cell_type": "code",
      "execution_count": 27,
      "id": "0b693769",
      "metadata": {},
      "outputs": [
        {
          "data": {
            "text/plain": [
              "'What is the second point?'"
            ]
          },
          "execution_count": 27,
          "metadata": {},
          "output_type": "execute_result"
        }
      ],
      "source": [
        "from langchain_core.messages import AIMessage, HumanMessage\n",
        "\n",
        "contextualize_q_chain.invoke(\n",
        "    {\n",
        "        \"chat_history\": [\n",
        "            HumanMessage(content=\"three points: location, tuition, major, what is the last point\"),\n",
        "            AIMessage(content=\"major\"),\n",
        "        ],\n",
        "        \"question\": \"What about second point?\",\n",
        "    }\n",
        ")"
      ]
    },
    {
      "cell_type": "code",
      "execution_count": 28,
      "id": "0af512b6",
      "metadata": {},
      "outputs": [],
      "source": [
        "qa_system_prompt = \"\"\"You are an assistant for question-answering tasks. \\\n",
        "Use the following pieces of retrieved context to answer the question. \\\n",
        "If you don't know the answer, just say that you don't know. \\\n",
        "Use three sentences maximum and keep the answer concise.\\\n",
        "\n",
        "{context}\"\"\"\n",
        "qa_prompt = ChatPromptTemplate.from_messages(\n",
        "    [\n",
        "        (\"system\", qa_system_prompt),\n",
        "        MessagesPlaceholder(variable_name=\"chat_history\"),\n",
        "        (\"human\", \"{question}\"),\n",
        "    ]\n",
        ")\n",
        "\n",
        "\n",
        "def contextualized_question(input: dict):\n",
        "    if input.get(\"chat_history\"):\n",
        "        return contextualize_q_chain\n",
        "    else:\n",
        "        return input[\"question\"]\n",
        "\n",
        "\n",
        "rag_chain = (\n",
        "    RunnablePassthrough.assign(\n",
        "        context=contextualized_question | retriever | format_docs\n",
        "    )\n",
        "    | qa_prompt\n",
        "    | llm\n",
        ")"
      ]
    },
    {
      "cell_type": "code",
      "execution_count": 29,
      "id": "e7ebb876",
      "metadata": {},
      "outputs": [
        {
          "data": {
            "text/plain": [
              "AIMessage(content='Task decomposition can be done in several common ways, including using Language Model (LLM) with simple prompting, task-specific instructions, or human inputs. LLM can be prompted with instructions like \"Steps for XYZ\" to break down tasks, while task-specific instructions like \"Write a story outline\" can guide the decomposition process for specific tasks. Additionally, human inputs can also be used to decompose tasks into smaller, more manageable steps.')"
            ]
          },
          "execution_count": 29,
          "metadata": {},
          "output_type": "execute_result"
        }
      ],
      "source": [
        "chat_history = []\n",
        "\n",
        "question = \"What is Task Decomposition?\"\n",
        "ai_msg = rag_chain.invoke({\"question\": question, \"chat_history\": chat_history})\n",
        "chat_history.extend([HumanMessage(content=question), ai_msg])\n",
        "\n",
        "second_question = \"What are common ways of doing it?\"\n",
        "rag_chain.invoke({\"question\": second_question, \"chat_history\": chat_history})"
      ]
    },
    {
      "cell_type": "code",
      "execution_count": 30,
      "id": "269bdf13",
      "metadata": {},
      "outputs": [
        {
          "name": "stdout",
          "output_type": "stream",
          "text": [
            "{'question': 'What is Task Decomposition'}\n",
            "{'context': [Document(page_content='Fig. 1. Overview of a LLM-powered autonomous agent system.\\nComponent One: Planning#\\nA complicated task usually involves many steps. An agent needs to know what they are and plan ahead.\\nTask Decomposition#\\nChain of thought (CoT; Wei et al. 2022) has become a standard prompting technique for enhancing model performance on complex tasks. The model is instructed to “think step by step” to utilize more test-time computation to decompose hard tasks into smaller and simpler steps. CoT transforms big tasks into multiple manageable tasks and shed lights into an interpretation of the model’s thinking process.', metadata={'source': 'https://lilianweng.github.io/posts/2023-06-23-agent/'}), Document(page_content='Tree of Thoughts (Yao et al. 2023) extends CoT by exploring multiple reasoning possibilities at each step. It first decomposes the problem into multiple thought steps and generates multiple thoughts per step, creating a tree structure. The search process can be BFS (breadth-first search) or DFS (depth-first search) with each state evaluated by a classifier (via a prompt) or majority vote.\\nTask decomposition can be done (1) by LLM with simple prompting like \"Steps for XYZ.\\\\n1.\", \"What are the subgoals for achieving XYZ?\", (2) by using task-specific instructions; e.g. \"Write a story outline.\" for writing a novel, or (3) with human inputs.', metadata={'source': 'https://lilianweng.github.io/posts/2023-06-23-agent/'}), Document(page_content='The AI assistant can parse user input to several tasks: [{\"task\": task, \"id\", task_id, \"dep\": dependency_task_ids, \"args\": {\"text\": text, \"image\": URL, \"audio\": URL, \"video\": URL}}]. The \"dep\" field denotes the id of the previous task which generates a new resource that the current task relies on. A special tag \"-task_id\" refers to the generated text image, audio and video in the dependency task with id as task_id. The task MUST be selected from the following options: {{ Available Task List }}. There is a logical relationship between tasks, please note their order. If the user input can\\'t be parsed, you need to reply empty JSON. Here are several cases for your reference: {{ Demonstrations }}. The chat history is recorded as {{ Chat History }}. From this chat history, you can find the path of the user-mentioned resources for your task planning.', metadata={'source': 'https://lilianweng.github.io/posts/2023-06-23-agent/'}), Document(page_content='Fig. 11. Illustration of how HuggingGPT works. (Image source: Shen et al. 2023)\\nThe system comprises of 4 stages:\\n(1) Task planning: LLM works as the brain and parses the user requests into multiple tasks. There are four attributes associated with each task: task type, ID, dependencies, and arguments. They use few-shot examples to guide LLM to do task parsing and planning.\\nInstruction:', metadata={'source': 'https://lilianweng.github.io/posts/2023-06-23-agent/'})]}\n",
            "{'answer': ''}\n",
            "{'answer': 'Task'}\n",
            "{'answer': ' decomposition'}\n",
            "{'answer': ' is'}\n",
            "{'answer': ' a'}\n",
            "{'answer': ' technique'}\n",
            "{'answer': ' used'}\n",
            "{'answer': ' to'}\n",
            "{'answer': ' break'}\n",
            "{'answer': ' down'}\n",
            "{'answer': ' complex'}\n",
            "{'answer': ' tasks'}\n",
            "{'answer': ' into'}\n",
            "{'answer': ' smaller'}\n",
            "{'answer': ' and'}\n",
            "{'answer': ' simpler'}\n",
            "{'answer': ' steps'}\n",
            "{'answer': ','}\n",
            "{'answer': ' making'}\n",
            "{'answer': ' it'}\n",
            "{'answer': ' easier'}\n",
            "{'answer': ' for'}\n",
            "{'answer': ' agents'}\n",
            "{'answer': ' to'}\n",
            "{'answer': ' plan'}\n",
            "{'answer': ' and'}\n",
            "{'answer': ' execute'}\n",
            "{'answer': ' them'}\n",
            "{'answer': '.'}\n",
            "{'answer': ' It'}\n",
            "{'answer': ' involves'}\n",
            "{'answer': ' transforming'}\n",
            "{'answer': ' big'}\n",
            "{'answer': ' tasks'}\n",
            "{'answer': ' into'}\n",
            "{'answer': ' manageable'}\n",
            "{'answer': ' sub'}\n",
            "{'answer': 'tasks'}\n",
            "{'answer': ','}\n",
            "{'answer': ' allowing'}\n",
            "{'answer': ' for'}\n",
            "{'answer': ' a'}\n",
            "{'answer': ' more'}\n",
            "{'answer': ' structured'}\n",
            "{'answer': ' approach'}\n",
            "{'answer': ' to'}\n",
            "{'answer': ' problem'}\n",
            "{'answer': '-solving'}\n",
            "{'answer': '.'}\n",
            "{'answer': ' This'}\n",
            "{'answer': ' process'}\n",
            "{'answer': ' can'}\n",
            "{'answer': ' be'}\n",
            "{'answer': ' facilitated'}\n",
            "{'answer': ' by'}\n",
            "{'answer': ' using'}\n",
            "{'answer': ' prompting'}\n",
            "{'answer': ' techniques'}\n",
            "{'answer': ' like'}\n",
            "{'answer': ' Chain'}\n",
            "{'answer': ' of'}\n",
            "{'answer': ' Thought'}\n",
            "{'answer': ' or'}\n",
            "{'answer': ' Tree'}\n",
            "{'answer': ' of'}\n",
            "{'answer': ' Thoughts'}\n",
            "{'answer': ' to'}\n",
            "{'answer': ' guide'}\n",
            "{'answer': ' the'}\n",
            "{'answer': ' model'}\n",
            "{'answer': ' in'}\n",
            "{'answer': ' thinking'}\n",
            "{'answer': ' step'}\n",
            "{'answer': ' by'}\n",
            "{'answer': ' step'}\n",
            "{'answer': '.'}\n",
            "{'answer': ''}\n"
          ]
        }
      ],
      "source": [
        "for chunk in rag_chain_with_source.stream(\"What is Task Decomposition\"):\n",
        "    print(chunk)"
      ]
    },
    {
      "cell_type": "code",
      "execution_count": 31,
      "id": "1fa53cbf",
      "metadata": {},
      "outputs": [
        {
          "name": "stdout",
          "output_type": "stream",
          "text": [
            "\n",
            "\n",
            "question: What is Task Decomposition\n",
            "\n",
            "context: [Document(page_content='Fig. 1. Overview of a LLM-powered autonomous agent system.\\nComponent One: Planning#\\nA complicated task usually involves many steps. An agent needs to know what they are and plan ahead.\\nTask Decomposition#\\nChain of thought (CoT; Wei et al. 2022) has become a standard prompting technique for enhancing model performance on complex tasks. The model is instructed to “think step by step” to utilize more test-time computation to decompose hard tasks into smaller and simpler steps. CoT transforms big tasks into multiple manageable tasks and shed lights into an interpretation of the model’s thinking process.', metadata={'source': 'https://lilianweng.github.io/posts/2023-06-23-agent/'}), Document(page_content='Tree of Thoughts (Yao et al. 2023) extends CoT by exploring multiple reasoning possibilities at each step. It first decomposes the problem into multiple thought steps and generates multiple thoughts per step, creating a tree structure. The search process can be BFS (breadth-first search) or DFS (depth-first search) with each state evaluated by a classifier (via a prompt) or majority vote.\\nTask decomposition can be done (1) by LLM with simple prompting like \"Steps for XYZ.\\\\n1.\", \"What are the subgoals for achieving XYZ?\", (2) by using task-specific instructions; e.g. \"Write a story outline.\" for writing a novel, or (3) with human inputs.', metadata={'source': 'https://lilianweng.github.io/posts/2023-06-23-agent/'}), Document(page_content='The AI assistant can parse user input to several tasks: [{\"task\": task, \"id\", task_id, \"dep\": dependency_task_ids, \"args\": {\"text\": text, \"image\": URL, \"audio\": URL, \"video\": URL}}]. The \"dep\" field denotes the id of the previous task which generates a new resource that the current task relies on. A special tag \"-task_id\" refers to the generated text image, audio and video in the dependency task with id as task_id. The task MUST be selected from the following options: {{ Available Task List }}. There is a logical relationship between tasks, please note their order. If the user input can\\'t be parsed, you need to reply empty JSON. Here are several cases for your reference: {{ Demonstrations }}. The chat history is recorded as {{ Chat History }}. From this chat history, you can find the path of the user-mentioned resources for your task planning.', metadata={'source': 'https://lilianweng.github.io/posts/2023-06-23-agent/'}), Document(page_content='Fig. 11. Illustration of how HuggingGPT works. (Image source: Shen et al. 2023)\\nThe system comprises of 4 stages:\\n(1) Task planning: LLM works as the brain and parses the user requests into multiple tasks. There are four attributes associated with each task: task type, ID, dependencies, and arguments. They use few-shot examples to guide LLM to do task parsing and planning.\\nInstruction:', metadata={'source': 'https://lilianweng.github.io/posts/2023-06-23-agent/'})]\n",
            "\n",
            "answer: Task decomposition is a technique used to break down complex tasks into smaller and simpler steps, making it easier for agents to plan and execute them. It involves transforming big tasks into manageable subtasks, allowing for a more structured approach to problem-solving. This process can be facilitated by using prompting techniques like Chain of Thought or Tree of Thoughts to guide the model in breaking down tasks effectively."
          ]
        },
        {
          "data": {
            "text/plain": [
              "{'question': 'What is Task Decomposition',\n",
              " 'context': [Document(page_content='Fig. 1. Overview of a LLM-powered autonomous agent system.\\nComponent One: Planning#\\nA complicated task usually involves many steps. An agent needs to know what they are and plan ahead.\\nTask Decomposition#\\nChain of thought (CoT; Wei et al. 2022) has become a standard prompting technique for enhancing model performance on complex tasks. The model is instructed to “think step by step” to utilize more test-time computation to decompose hard tasks into smaller and simpler steps. CoT transforms big tasks into multiple manageable tasks and shed lights into an interpretation of the model’s thinking process.', metadata={'source': 'https://lilianweng.github.io/posts/2023-06-23-agent/'}),\n",
              "  Document(page_content='Tree of Thoughts (Yao et al. 2023) extends CoT by exploring multiple reasoning possibilities at each step. It first decomposes the problem into multiple thought steps and generates multiple thoughts per step, creating a tree structure. The search process can be BFS (breadth-first search) or DFS (depth-first search) with each state evaluated by a classifier (via a prompt) or majority vote.\\nTask decomposition can be done (1) by LLM with simple prompting like \"Steps for XYZ.\\\\n1.\", \"What are the subgoals for achieving XYZ?\", (2) by using task-specific instructions; e.g. \"Write a story outline.\" for writing a novel, or (3) with human inputs.', metadata={'source': 'https://lilianweng.github.io/posts/2023-06-23-agent/'}),\n",
              "  Document(page_content='The AI assistant can parse user input to several tasks: [{\"task\": task, \"id\", task_id, \"dep\": dependency_task_ids, \"args\": {\"text\": text, \"image\": URL, \"audio\": URL, \"video\": URL}}]. The \"dep\" field denotes the id of the previous task which generates a new resource that the current task relies on. A special tag \"-task_id\" refers to the generated text image, audio and video in the dependency task with id as task_id. The task MUST be selected from the following options: {{ Available Task List }}. There is a logical relationship between tasks, please note their order. If the user input can\\'t be parsed, you need to reply empty JSON. Here are several cases for your reference: {{ Demonstrations }}. The chat history is recorded as {{ Chat History }}. From this chat history, you can find the path of the user-mentioned resources for your task planning.', metadata={'source': 'https://lilianweng.github.io/posts/2023-06-23-agent/'}),\n",
              "  Document(page_content='Fig. 11. Illustration of how HuggingGPT works. (Image source: Shen et al. 2023)\\nThe system comprises of 4 stages:\\n(1) Task planning: LLM works as the brain and parses the user requests into multiple tasks. There are four attributes associated with each task: task type, ID, dependencies, and arguments. They use few-shot examples to guide LLM to do task parsing and planning.\\nInstruction:', metadata={'source': 'https://lilianweng.github.io/posts/2023-06-23-agent/'})],\n",
              " 'answer': 'Task decomposition is a technique used to break down complex tasks into smaller and simpler steps, making it easier for agents to plan and execute them. It involves transforming big tasks into manageable subtasks, allowing for a more structured approach to problem-solving. This process can be facilitated by using prompting techniques like Chain of Thought or Tree of Thoughts to guide the model in breaking down tasks effectively.'}"
            ]
          },
          "execution_count": 31,
          "metadata": {},
          "output_type": "execute_result"
        }
      ],
      "source": [
        "output = {}\n",
        "curr_key = None\n",
        "for chunk in rag_chain_with_source.stream(\"What is Task Decomposition\"):\n",
        "    for key in chunk:\n",
        "        if key not in output:\n",
        "            output[key] = chunk[key]\n",
        "        else:\n",
        "            output[key] += chunk[key]\n",
        "        if key != curr_key:\n",
        "            print(f\"\\n\\n{key}: {chunk[key]}\", end=\"\", flush=True)\n",
        "        else:\n",
        "            print(chunk[key], end=\"\", flush=True)\n",
        "        curr_key = key\n",
        "output"
      ]
    },
    {
      "cell_type": "code",
      "execution_count": 32,
      "id": "d516fefb",
      "metadata": {},
      "outputs": [],
      "source": [
        "from operator import itemgetter\n",
        "\n",
        "from langchain_core.prompts import ChatPromptTemplate, MessagesPlaceholder\n",
        "from langchain_core.tracers.log_stream import LogStreamCallbackHandler\n",
        "\n",
        "contextualize_q_system_prompt = \"\"\"Given a chat history and the latest user question \\\n",
        "which might reference context in the chat history, formulate a standalone question \\\n",
        "which can be understood without the chat history. Do NOT answer the question, \\\n",
        "just reformulate it if needed and otherwise return it as is.\"\"\"\n",
        "contextualize_q_prompt = ChatPromptTemplate.from_messages(\n",
        "    [\n",
        "        (\"system\", contextualize_q_system_prompt),\n",
        "        MessagesPlaceholder(variable_name=\"chat_history\"),\n",
        "        (\"human\", \"{question}\"),\n",
        "    ]\n",
        ")\n",
        "contextualize_q_chain = (contextualize_q_prompt | llm | StrOutputParser()).with_config(\n",
        "    tags=[\"contextualize_q_chain\"]\n",
        ")\n",
        "\n",
        "qa_system_prompt = \"\"\"You are an assistant for question-answering tasks. \\\n",
        "Use the following pieces of retrieved context to answer the question. \\\n",
        "If you don't know the answer, just say that you don't know. \\\n",
        "Use three sentences maximum and keep the answer concise.\\\n",
        "\n",
        "{context}\"\"\"\n",
        "qa_prompt = ChatPromptTemplate.from_messages(\n",
        "    [\n",
        "        (\"system\", qa_system_prompt),\n",
        "        MessagesPlaceholder(variable_name=\"chat_history\"),\n",
        "        (\"human\", \"{question}\"),\n",
        "    ]\n",
        ")\n",
        "\n",
        "\n",
        "def contextualized_question(input: dict):\n",
        "    if input.get(\"chat_history\"):\n",
        "        return contextualize_q_chain\n",
        "    else:\n",
        "        return input[\"question\"]\n",
        "\n",
        "\n",
        "rag_chain = (\n",
        "    RunnablePassthrough.assign(context=contextualize_q_chain | retriever | format_docs)\n",
        "    | qa_prompt\n",
        "    | llm\n",
        ")"
      ]
    },
    {
      "cell_type": "code",
      "execution_count": 34,
      "id": "f7af9043",
      "metadata": {},
      "outputs": [
        {
          "name": "stdout",
          "output_type": "stream",
          "text": [
            "================================\u001b[1m System Message \u001b[0m================================\n",
            "\n",
            "You're a helpful AI assistant. Given a user question and some Wikipedia article snippets, answer the user question. If none of the articles answer the question, just say you don't know.\n",
            "\n",
            "Here are the Wikipedia articles:\u001b[33;1m\u001b[1;3m{context}\u001b[0m\n",
            "\n",
            "================================\u001b[1m Human Message \u001b[0m=================================\n",
            "\n",
            "\u001b[33;1m\u001b[1;3m{question}\u001b[0m\n"
          ]
        }
      ],
      "source": [
        "from langchain_community.retrievers import WikipediaRetriever\n",
        "from langchain_core.prompts import ChatPromptTemplate\n",
        "from langchain_openai import ChatOpenAI\n",
        "\n",
        "llm = ChatOpenAI(model=\"gpt-3.5-turbo\", temperature=0)\n",
        "wiki = WikipediaRetriever(top_k_results=6, doc_content_chars_max=2000)\n",
        "prompt = ChatPromptTemplate.from_messages(\n",
        "    [\n",
        "        (\n",
        "            \"system\",\n",
        "            \"You're a helpful AI assistant. Given a user question and some Wikipedia article snippets, answer the user question. If none of the articles answer the question, just say you don't know.\\n\\nHere are the Wikipedia articles:{context}\",\n",
        "        ),\n",
        "        (\"human\", \"{question}\"),\n",
        "    ]\n",
        ")\n",
        "prompt.pretty_print()"
      ]
    },
    {
      "cell_type": "code",
      "execution_count": 35,
      "id": "5fb8c5fe",
      "metadata": {},
      "outputs": [],
      "source": [
        "from operator import itemgetter\n",
        "from typing import List\n",
        "\n",
        "from langchain_core.documents import Document\n",
        "from langchain_core.output_parsers import StrOutputParser\n",
        "from langchain_core.runnables import (\n",
        "    RunnableLambda,\n",
        "    RunnableParallel,\n",
        "    RunnablePassthrough,\n",
        ")\n",
        "\n",
        "\n",
        "def format_docs(docs: List[Document]) -> str:\n",
        "    \"\"\"Convert Documents to a single string.:\"\"\"\n",
        "    formatted = [\n",
        "        f\"Article Title: {doc.metadata['title']}\\nArticle Snippet: {doc.page_content}\"\n",
        "        for doc in docs\n",
        "    ]\n",
        "    return \"\\n\\n\" + \"\\n\\n\".join(formatted)\n",
        "\n",
        "\n",
        "format = itemgetter(\"docs\") | RunnableLambda(format_docs)\n",
        "# subchain for generating an answer once we've done retrieval\n",
        "answer = prompt | llm | StrOutputParser()\n",
        "# complete chain that calls wiki -> formats docs to string -> runs answer subchain -> returns just the answer and retrieved docs.\n",
        "chain = (\n",
        "    RunnableParallel(question=RunnablePassthrough(), docs=wiki)\n",
        "    .assign(context=format)\n",
        "    .assign(answer=answer)\n",
        "    .pick([\"answer\", \"docs\"])\n",
        ")"
      ]
    },
    {
      "cell_type": "code",
      "execution_count": 37,
      "id": "b4476108",
      "metadata": {},
      "outputs": [
        {
          "data": {
            "text/plain": [
              "{'answer': 'The population of Shanghai proper is 24.89 million inhabitants as of 2021. The urban area of Shanghai is the most populous in China, with 39.3 million residents.',\n",
              " 'docs': [Document(page_content=\"Shanghai (; Chinese: 上海; pinyin: Shànghǎi, Shanghainese: zaon6 he5 [zɑ̃˩ hɛ˦] , Standard Mandarin pronunciation: [ʂâŋ.xàɪ] ) is one of the four direct-administered municipalities of the People's Republic of China (PRC). The city is located on the southern estuary of the Yangtze River, with the Huangpu River flowing through it. The population of the city proper is the third largest in the world, with 24.89 million inhabitants in 2021, while the urban area is the most populous in China, with 39.3 million residents. As of 2018, the Greater Shanghai metropolitan area was estimated to produce a gross metropolitan product (nominal) of nearly 9.1 trillion RMB ($1.33 trillion). Shanghai is one of the world's major centers for finance, business and economics, research, science and technology, manufacturing, transportation, tourism, and culture. The Port of Shanghai is the world's busiest container port.\\nOriginally a fishing village and market town, Shanghai grew in importance in the 19th century due to both domestic and foreign trade and its favorable port location. The city was one of five treaty ports forced to open to European trade after the First Opium War which ceded Hong Kong to the United Kingdom, following the Second Battle of Chuenpi in 1841, more than 60 km (37 mi) east of the Portuguese colony of Macau that was also controlled by Portugal of the Luso-Chinese agreement of 1554. The Shanghai International Settlement and the French Concession were subsequently established. The city then flourished, becoming a primary commercial and financial hub of Asia in the 1930s. During the Second Sino-Japanese War, the city was the site of the major Battle of Shanghai. After the war, with the CCP takeover of the mainland in 1949, trade was limited to other socialist countries and the city's global influence would decline during the Cold War.\\nBy the 1990s, economic reforms introduced by Deng Xiaoping a decade earlier resulted in an intense redevelopment and revitalization of the\", metadata={'title': 'Shanghai', 'summary': 'Shanghai (; Chinese: 上海; pinyin: Shànghǎi, Shanghainese: zaon6 he5 [zɑ̃˩ hɛ˦] , Standard Mandarin pronunciation: [ʂâŋ.xàɪ] ) is one of the four direct-administered municipalities of the People\\'s Republic of China (PRC). The city is located on the southern estuary of the Yangtze River, with the Huangpu River flowing through it. The population of the city proper is the third largest in the world, with 24.89 million inhabitants in 2021, while the urban area is the most populous in China, with 39.3 million residents. As of 2018, the Greater Shanghai metropolitan area was estimated to produce a gross metropolitan product (nominal) of nearly 9.1 trillion RMB ($1.33 trillion). Shanghai is one of the world\\'s major centers for finance, business and economics, research, science and technology, manufacturing, transportation, tourism, and culture. The Port of Shanghai is the world\\'s busiest container port.\\nOriginally a fishing village and market town, Shanghai grew in importance in the 19th century due to both domestic and foreign trade and its favorable port location. The city was one of five treaty ports forced to open to European trade after the First Opium War which ceded Hong Kong to the United Kingdom, following the Second Battle of Chuenpi in 1841, more than 60 km (37 mi) east of the Portuguese colony of Macau that was also controlled by Portugal of the Luso-Chinese agreement of 1554. The Shanghai International Settlement and the French Concession were subsequently established. The city then flourished, becoming a primary commercial and financial hub of Asia in the 1930s. During the Second Sino-Japanese War, the city was the site of the major Battle of Shanghai. After the war, with the CCP takeover of the mainland in 1949, trade was limited to other socialist countries and the city\\'s global influence would decline during the Cold War.\\nBy the 1990s, economic reforms introduced by Deng Xiaoping a decade earlier resulted in an intense redevelopment and revitalization of the city, especially the Pudong New Area, aiding the return of finance and foreign investment. The city has since re-emerged as a hub for international trade and finance; it is the home of the Shanghai Stock Exchange, one of the largest stock exchanges in the world by market capitalization and the Shanghai Free-Trade Zone, the first free-trade zone in mainland China. Shanghai has been classified as an Alpha+ (global first-tier) city by the Globalization and World Cities Research Network and is known as the \"New York of China\". As of 2022, it is home to 12 companies of the Fortune Global 500 and is ranked 4th on the Global Financial Centres Index. The city is also a global major center for research and development and home to many highly ranked Double First-Class Universities. The Shanghai Metro, first opened in 1993, is the largest metro network in the world by route length. \\nShanghai has been described as the \"showpiece\" of the economy of China. Featuring several architectural styles such as Art Deco and shikumen, the city is renowned for its Lujiazui skyline, museums and historic buildings including the City God Temple, Yu Garden, the China Pavilion and buildings along the Bund, which includes Oriental Pearl Tower. Shanghai is also known for its sugary cuisine, distinctive local language and vibrant international flair. It ranks sixth in the list of cities with the most skyscrapers.', 'source': 'https://en.wikipedia.org/wiki/Shanghai'}),\n",
              "  Document(page_content='Jiading is a suburban district of Shanghai. It had a population of 1,834,258 in 2020.\\n\\n\\n== History ==\\nHistorically, Jiading was a separate municipality/town, until, in 1958, becoming under the administration of Shanghai. In 1993, Jiading\\'s designated was changed from a county to a district of Shanghai.In the early Qing dynasty, which overlapped with Southern Ming, the municipality was infamously known for the \"Jiading Massacre\", a mass murder carried out by the invading Qing force, led by defected northern Chinese bandit general Li Chengdong. In late Qing (in 1853), Jiading city [sic] was also known for bandit activities that once captured the city and then Shanghai, as a rebellion of taxation.In 2005, the Jiading district government invested RMB 10 million to build the Shanghai Museum of the Imperial Examination System.\\n\\n\\n== Geography ==\\nJiading district is located in the northwestern part of Shanghai. It stretches across 463.9 square kilometers (179.1 sq mi). It is located about 20 kilometers (12 mi) from downtown Shanghai.\\n\\n\\n=== Climate ===\\nJiading has a humid subtropical climate (Köppen climate classification Cfa). The average annual temperature in Jiading is 16.3 °C (61.3 °F). The average annual rainfall is 1,139.8 mm (44.87 in) with July as the wettest month. The temperatures are highest on average in July, at around 28.2 °C (82.8 °F), and lowest in January, at around 4.0 °C (39.2 °F).\\n\\n\\n== Administration ==\\nJiading District administers several subdistricts towns, including Jiading, Anting, Nanxiang, Huating, Xuhang, Waigang, Huangdu, Malu and Jiangqiao.\\n\\n\\n=== Subdistricts and towns ===\\n\\n\\n== Landmarks ==\\nShanghai University has a campus in downtown Jiading, which is where SILC is based.\\nThe Shanghai International Circuit is located in Jiading. Each year in April, the Shanghai International Circuit holds the Chinese Grand Prix.\\n\\n\\n=== Jiading Confucian Temple ===\\nLocation: 183 Jiading Nan Dajie, near Tacheng Lu, Jiading District, Shanghai\\nThe Jiading Confucian T', metadata={'title': 'Jiading, Shanghai', 'summary': 'Jiading is a suburban district of Shanghai. It had a population of 1,834,258 in 2020.', 'source': 'https://en.wikipedia.org/wiki/Jiading,_Shanghai'}),\n",
              "  Document(page_content='The Shanghai Cooperation Organisation (SCO) is a Eurasian political, economic, international security and defence organization established by China and Russia in 2001. It is the world\\'s largest regional organization in terms of geographic scope and population, covering approximately 80% of the area of Eurasia and 40% of the world population. As of 2021, its combined GDP was around 20% of global GDP.The SCO is the successor to the Shanghai Five, formed in 1996 between the People\\'s Republic of China, Kazakhstan, Kyrgyzstan, Russia, and Tajikistan. In June 2001, the leaders of these nations and Uzbekistan met in Shanghai to announce a new organization with deeper political and economic cooperation.  In June 2017, it expanded to eight states, with India and Pakistan.  Iran joined the group in July 2023. Several countries are engaged as observers or dialogue partners.\\nThe SCO is governed by the Heads of State Council (HSC), its supreme decision-making body, which meets once a year. The organization also contains the so-called Regional Antiterrorist Structure (RATS).\\n\\n\\n== Origins ==\\n\\n\\n=== The Shanghai Five ===\\nThe Shanghai Five group was created on 26 April 1996 when the heads of states of China, Kazakhstan, Kyrgyzstan, Russia and Tajikistan signed the Treaty on Deepening Military Trust in Border Regions in Shanghai.On 24 April 1997 the same countries signed the Treaty on Reduction of Military Forces in Border Regions in a meeting in Moscow, Russia. On 20 May 1997 Russian President Boris Yeltsin and Chinese President Jiang Zemin signed a declaration on a \"multipolar world\".Subsequent annual summits of the Shanghai Five group occurred in Almaty, Kazakhstan in 1998, in Bishkek, Kyrgyzstan in 1999, and in Dushanbe, Tajikistan in 2000. At the Dushanbe summit, members agreed to \"oppose intervention in other countries\\' internal affairs on the reason of \\'humanitarianism\\' and \\'protecting human rights;\\' and support the efforts of one another in safeguarding the five countries\\' nat', metadata={'title': 'Shanghai Cooperation Organisation', 'summary': \"The Shanghai Cooperation Organisation (SCO) is a Eurasian political, economic, international security and defence organization established by China and Russia in 2001. It is the world's largest regional organization in terms of geographic scope and population, covering approximately 80% of the area of Eurasia and 40% of the world population. As of 2021, its combined GDP was around 20% of global GDP.The SCO is the successor to the Shanghai Five, formed in 1996 between the People's Republic of China, Kazakhstan, Kyrgyzstan, Russia, and Tajikistan. In June 2001, the leaders of these nations and Uzbekistan met in Shanghai to announce a new organization with deeper political and economic cooperation.  In June 2017, it expanded to eight states, with India and Pakistan.  Iran joined the group in July 2023. Several countries are engaged as observers or dialogue partners.\\nThe SCO is governed by the Heads of State Council (HSC), its supreme decision-making body, which meets once a year. The organization also contains the so-called Regional Antiterrorist Structure (RATS).\", 'source': 'https://en.wikipedia.org/wiki/Shanghai_Cooperation_Organisation'}),\n",
              "  Document(page_content='The United Nations uses three definitions for what constitutes a city, as not all cities in all jurisdictions are classified using the same criteria. Cities may be defined as the cities proper, the extent of their urban area, or their metropolitan regions.\\n\\n\\n== Definitions ==\\n\\n\\n=== City proper (administrative) ===\\n\\nA city can be defined by its administrative boundaries, otherwise known as city proper. UNICEF defines city proper as, \"the population living within the administrative boundaries of a city or controlled directly from the city by a single authority.\" A city proper is a locality defined according to legal or political boundaries and an administratively recognised urban status that is usually characterised by some form of local government. Cities proper and their boundaries and population data may not include suburbs.The use of city proper as defined by administrative boundaries may not include suburban areas where an important proportion of the population working or studying in the city lives. Because of this definition, the city proper population figure may differ greatly from the urban area population figure, as many cities are amalgamations of smaller municipalities (Australia), and conversely, many Chinese cities govern territories that extend well beyond the core urban area into suburban and rural areas. The Chinese municipality of Chongqing, which is the largest city proper in the world by population, comprises a huge administrative area of 82,403 km2, around the size of Austria. However, more than 70% of its 30-million population are actually agricultural workers living in a rural setting.\\n\\n\\n=== Urban area ===\\n\\nA city can be defined as a conditionally contiguous urban area, without regard to territorial or other boundaries inside an urban area. UNICEF defines urban area as follows:\\n\\nThe definition of \"urban\" varies from country to country, and, with periodic reclassification, can also vary within one country over time, making direct comparisons diffi', metadata={'title': 'List of largest cities', 'summary': 'The United Nations uses three definitions for what constitutes a city, as not all cities in all jurisdictions are classified using the same criteria. Cities may be defined as the cities proper, the extent of their urban area, or their metropolitan regions.', 'source': 'https://en.wikipedia.org/wiki/List_of_largest_cities'}),\n",
              "  Document(page_content='The history of Shanghai spans over a thousand years and closely parallels the development of modern China. Originally a small agricultural village, Shanghai developed during the late Qing dynasty (1644–1912) as one of China\\'s principal trading ports. Although nominally part of China, in practice foreign diplomats controlled the city under the policy of extraterritoriality. Since the economic reforms of the early 1990s the city has burgeoned to become one of Asia\\'s major financial centers and the world\\'s busiest container port.\\n\\n\\n== Early Era ==\\nAround 6000 BCE, only the western part of the Shanghai region encompassing today\\'s Qingpu, Songjiang and Jinshan districts were dry land formed by lacustrine silting from ancient Lake Tai. The modern Jiading, Minhang and Fengxian districts emerged around 1,000 BC while the downtown area remained underwater.\\nThe earliest Neolithic settlements known in this area date to the Majiabang culture  (5000–3300 BCE). This was overlapped by the Songze culture between around 3800–3300 BCE. In the lower stratum of the Songze excavation site in the modern-day Qingpu District, archaeologists found the prone skeleton of one of the Shanghai\\'s earliest inhabitants—a 25-30-year-old male with an almost complete skull dated to the Majiabang era.By the 4th and 5th centuries CE, during the Eastern Jin dynasty (317–420), a thriving fishing industry had developed along the Song River—now known as Suzhou Creek,—a tributary of the Huangpu River. Located some 12 miles (19 km) from the Yangtze River estuary, China\\'s largest inland waterway, the creek was at that time known as the Hu (沪), a character that represents a fishing trap, of which there were a number in the river. The character Hu is still used as an abbreviation to denote the city, for example on car license plates. Qinglong Zhen (青龙镇; 芊龍鎮), the \"Garrison of the Green Dragon\", the first garrison in this area, was founded in 746 during the Tang dynasty (618–907) in what is now the Qingpu Distric', metadata={'title': 'History of Shanghai', 'summary': \"The history of Shanghai spans over a thousand years and closely parallels the development of modern China. Originally a small agricultural village, Shanghai developed during the late Qing dynasty (1644–1912) as one of China's principal trading ports. Although nominally part of China, in practice foreign diplomats controlled the city under the policy of extraterritoriality. Since the economic reforms of the early 1990s the city has burgeoned to become one of Asia's major financial centers and the world's busiest container port.\", 'source': 'https://en.wikipedia.org/wiki/History_of_Shanghai'}),\n",
              "  Document(page_content=\"Population projections are attempts to show how the human population statistics might change in the future. These projections are an important input to forecasts of the population's impact on this planet and humanity's future well-being. Models of population growth take trends in human development and apply projections into the future. These models use trend-based-assumptions about how populations will respond to economic, social and technological forces to understand how they will affect fertility and mortality, and thus population growth.The 2022 projections from the United Nations Population Division (chart #1) show that annual world population growth peaked at 2.3% per year in 1963, has since dropped to 0.9% in 2023, equivalent to about 74 million people each year, and projected that it could drop even further to minus 0.1% by 2100. Based on this, the UN projected that the world population, 8 billion as of 2023, would peak around the year 2086 at about 10.4 billion, and then start a slow decline, assuming a continuing decrease in the global average fertility rate from 2.5 births per woman during the 2015–2020 period to 1.8 by the year 2100, (the medium-variant projection).However, estimates outside of the United Nations have put forward alternative models based on additional downward pressure on fertility (such as successful implementation of education and family planning goals in the UN's Sustainable Development Goals) which could result in peak population during the 2060–2070 period rather than later.\\nAccording to the UN, of the predicted growth in world population between 2020 and 2050, all of that change will come from less developed countries, and more than half will come from sub-Saharan Africa. Half of the growth will come from just eight countries, five of which are in Africa. The UN predicts that the population of sub-Saharan Africa will double by 2050. The Pew Research Center observes that 50% of births in the year 2100 will be in Africa. Other organiz\", metadata={'title': 'Projections of population growth', 'summary': \"Population projections are attempts to show how the human population statistics might change in the future. These projections are an important input to forecasts of the population's impact on this planet and humanity's future well-being. Models of population growth take trends in human development and apply projections into the future. These models use trend-based-assumptions about how populations will respond to economic, social and technological forces to understand how they will affect fertility and mortality, and thus population growth.The 2022 projections from the United Nations Population Division (chart #1) show that annual world population growth peaked at 2.3% per year in 1963, has since dropped to 0.9% in 2023, equivalent to about 74 million people each year, and projected that it could drop even further to minus 0.1% by 2100. Based on this, the UN projected that the world population, 8 billion as of 2023, would peak around the year 2086 at about 10.4 billion, and then start a slow decline, assuming a continuing decrease in the global average fertility rate from 2.5 births per woman during the 2015–2020 period to 1.8 by the year 2100, (the medium-variant projection).However, estimates outside of the United Nations have put forward alternative models based on additional downward pressure on fertility (such as successful implementation of education and family planning goals in the UN's Sustainable Development Goals) which could result in peak population during the 2060–2070 period rather than later.\\nAccording to the UN, of the predicted growth in world population between 2020 and 2050, all of that change will come from less developed countries, and more than half will come from sub-Saharan Africa. Half of the growth will come from just eight countries, five of which are in Africa. The UN predicts that the population of sub-Saharan Africa will double by 2050. The Pew Research Center observes that 50% of births in the year 2100 will be in Africa. Other organizations project lower levels of population growth in Africa, based particularly on improvement in women's education and successful implementation of family planning.During the remainder of this century some countries will see population growth, some will see population decline. For example the UN projects that Nigeria will gain about 340 million people, about the present population of the US, to become the 3rd most populous country, and China will lose almost half of its population.Even though the global fertility rate continues to fall, chart #2 shows that because of population momentum the global population will continue to grow, although at a steadily slower rate, until the mid 2080s (the median line). \\nThe main driver of long-term future population growth on this planet is projected to be the continuing evolution of fertility and mortality.\\n\\n\", 'source': 'https://en.wikipedia.org/wiki/Projections_of_population_growth'})]}"
            ]
          },
          "execution_count": 37,
          "metadata": {},
          "output_type": "execute_result"
        }
      ],
      "source": [
        "chain.invoke(\"what the population of shanghai?\")"
      ]
    },
    {
      "cell_type": "code",
      "execution_count": 39,
      "id": "26d0bcb0",
      "metadata": {},
      "outputs": [],
      "source": [
        "from langchain_core.pydantic_v1 import BaseModel, Field\n",
        "\n",
        "\n",
        "class cited_answer(BaseModel):\n",
        "    \"\"\"Answer the user question based only on the given sources, and cite the sources used.\"\"\"\n",
        "\n",
        "    answer: str = Field(\n",
        "        ...,\n",
        "        description=\"The answer to the user question, which is based only on the given sources.\",\n",
        "    )\n",
        "    citations: List[int] = Field(\n",
        "        ...,\n",
        "        description=\"The integer IDs of the SPECIFIC sources which justify the answer.\",\n",
        "    )"
      ]
    },
    {
      "cell_type": "code",
      "execution_count": 40,
      "id": "70801273",
      "metadata": {},
      "outputs": [
        {
          "data": {
            "text/plain": [
              "AIMessage(content='', additional_kwargs={'tool_calls': [{'id': 'call_0b1ZPgJAtUdESStAL24M8iey', 'function': {'arguments': '{\"answer\":\"Brian is 6\\' - 3\\\\\" tall.\",\"citations\":[1,3]}', 'name': 'cited_answer'}, 'type': 'function'}]})"
            ]
          },
          "execution_count": 40,
          "metadata": {},
          "output_type": "execute_result"
        }
      ],
      "source": [
        "llm_with_tool = llm.bind_tools(\n",
        "    [cited_answer],\n",
        "    tool_choice=\"cited_answer\",\n",
        ")\n",
        "example_q = \"\"\"What Brian's height?\n",
        "\n",
        "Source: 1\n",
        "Information: Suzy is 6'2\"\n",
        "\n",
        "Source: 2\n",
        "Information: Jeremiah is blonde\n",
        "\n",
        "Source: 3\n",
        "Information: Brian is 3 inches shorted than Suzy\"\"\"\n",
        "llm_with_tool.invoke(example_q)"
      ]
    },
    {
      "cell_type": "code",
      "execution_count": 41,
      "id": "741e02b3",
      "metadata": {},
      "outputs": [
        {
          "data": {
            "text/plain": [
              "[{'answer': 'Brian is 6\\' - 3\" tall.', 'citations': [1, 3]}]"
            ]
          },
          "execution_count": 41,
          "metadata": {},
          "output_type": "execute_result"
        }
      ],
      "source": [
        "from langchain.output_parsers.openai_tools import JsonOutputKeyToolsParser\n",
        "\n",
        "output_parser = JsonOutputKeyToolsParser(key_name=\"cited_answer\", return_single=True)\n",
        "(llm_with_tool | output_parser).invoke(example_q)"
      ]
    },
    {
      "cell_type": "code",
      "execution_count": 42,
      "id": "48355772",
      "metadata": {},
      "outputs": [],
      "source": [
        "def format_docs_with_id(docs: List[Document]) -> str:\n",
        "    formatted = [\n",
        "        f\"Source ID: {i}\\nArticle Title: {doc.metadata['title']}\\nArticle Snippet: {doc.page_content}\"\n",
        "        for i, doc in enumerate(docs)\n",
        "    ]\n",
        "    return \"\\n\\n\" + \"\\n\\n\".join(formatted)\n",
        "\n",
        "\n",
        "format_1 = itemgetter(\"docs\") | RunnableLambda(format_docs_with_id)\n",
        "answer_1 = prompt | llm_with_tool | output_parser\n",
        "chain_1 = (\n",
        "    RunnableParallel(question=RunnablePassthrough(), docs=wiki)\n",
        "    .assign(context=format_1)\n",
        "    .assign(cited_answer=answer_1)\n",
        "    .pick([\"cited_answer\", \"docs\"])\n",
        ")"
      ]
    },
    {
      "cell_type": "code",
      "execution_count": 43,
      "id": "797c32be",
      "metadata": {},
      "outputs": [
        {
          "data": {
            "text/plain": [
              "{'answer': 'The population of Shanghai proper is 24.89 million inhabitants as of 2021. The urban area of Shanghai is the most populous in China, with 39.3 million residents.',\n",
              " 'docs': [Document(page_content=\"Shanghai (; Chinese: 上海; pinyin: Shànghǎi, Shanghainese: zaon6 he5 [zɑ̃˩ hɛ˦] , Standard Mandarin pronunciation: [ʂâŋ.xàɪ] ) is one of the four direct-administered municipalities of the People's Republic of China (PRC). The city is located on the southern estuary of the Yangtze River, with the Huangpu River flowing through it. The population of the city proper is the third largest in the world, with 24.89 million inhabitants in 2021, while the urban area is the most populous in China, with 39.3 million residents. As of 2018, the Greater Shanghai metropolitan area was estimated to produce a gross metropolitan product (nominal) of nearly 9.1 trillion RMB ($1.33 trillion). Shanghai is one of the world's major centers for finance, business and economics, research, science and technology, manufacturing, transportation, tourism, and culture. The Port of Shanghai is the world's busiest container port.\\nOriginally a fishing village and market town, Shanghai grew in importance in the 19th century due to both domestic and foreign trade and its favorable port location. The city was one of five treaty ports forced to open to European trade after the First Opium War which ceded Hong Kong to the United Kingdom, following the Second Battle of Chuenpi in 1841, more than 60 km (37 mi) east of the Portuguese colony of Macau that was also controlled by Portugal of the Luso-Chinese agreement of 1554. The Shanghai International Settlement and the French Concession were subsequently established. The city then flourished, becoming a primary commercial and financial hub of Asia in the 1930s. During the Second Sino-Japanese War, the city was the site of the major Battle of Shanghai. After the war, with the CCP takeover of the mainland in 1949, trade was limited to other socialist countries and the city's global influence would decline during the Cold War.\\nBy the 1990s, economic reforms introduced by Deng Xiaoping a decade earlier resulted in an intense redevelopment and revitalization of the\", metadata={'title': 'Shanghai', 'summary': 'Shanghai (; Chinese: 上海; pinyin: Shànghǎi, Shanghainese: zaon6 he5 [zɑ̃˩ hɛ˦] , Standard Mandarin pronunciation: [ʂâŋ.xàɪ] ) is one of the four direct-administered municipalities of the People\\'s Republic of China (PRC). The city is located on the southern estuary of the Yangtze River, with the Huangpu River flowing through it. The population of the city proper is the third largest in the world, with 24.89 million inhabitants in 2021, while the urban area is the most populous in China, with 39.3 million residents. As of 2018, the Greater Shanghai metropolitan area was estimated to produce a gross metropolitan product (nominal) of nearly 9.1 trillion RMB ($1.33 trillion). Shanghai is one of the world\\'s major centers for finance, business and economics, research, science and technology, manufacturing, transportation, tourism, and culture. The Port of Shanghai is the world\\'s busiest container port.\\nOriginally a fishing village and market town, Shanghai grew in importance in the 19th century due to both domestic and foreign trade and its favorable port location. The city was one of five treaty ports forced to open to European trade after the First Opium War which ceded Hong Kong to the United Kingdom, following the Second Battle of Chuenpi in 1841, more than 60 km (37 mi) east of the Portuguese colony of Macau that was also controlled by Portugal of the Luso-Chinese agreement of 1554. The Shanghai International Settlement and the French Concession were subsequently established. The city then flourished, becoming a primary commercial and financial hub of Asia in the 1930s. During the Second Sino-Japanese War, the city was the site of the major Battle of Shanghai. After the war, with the CCP takeover of the mainland in 1949, trade was limited to other socialist countries and the city\\'s global influence would decline during the Cold War.\\nBy the 1990s, economic reforms introduced by Deng Xiaoping a decade earlier resulted in an intense redevelopment and revitalization of the city, especially the Pudong New Area, aiding the return of finance and foreign investment. The city has since re-emerged as a hub for international trade and finance; it is the home of the Shanghai Stock Exchange, one of the largest stock exchanges in the world by market capitalization and the Shanghai Free-Trade Zone, the first free-trade zone in mainland China. Shanghai has been classified as an Alpha+ (global first-tier) city by the Globalization and World Cities Research Network and is known as the \"New York of China\". As of 2022, it is home to 12 companies of the Fortune Global 500 and is ranked 4th on the Global Financial Centres Index. The city is also a global major center for research and development and home to many highly ranked Double First-Class Universities. The Shanghai Metro, first opened in 1993, is the largest metro network in the world by route length. \\nShanghai has been described as the \"showpiece\" of the economy of China. Featuring several architectural styles such as Art Deco and shikumen, the city is renowned for its Lujiazui skyline, museums and historic buildings including the City God Temple, Yu Garden, the China Pavilion and buildings along the Bund, which includes Oriental Pearl Tower. Shanghai is also known for its sugary cuisine, distinctive local language and vibrant international flair. It ranks sixth in the list of cities with the most skyscrapers.', 'source': 'https://en.wikipedia.org/wiki/Shanghai'}),\n",
              "  Document(page_content='Jiading is a suburban district of Shanghai. It had a population of 1,834,258 in 2020.\\n\\n\\n== History ==\\nHistorically, Jiading was a separate municipality/town, until, in 1958, becoming under the administration of Shanghai. In 1993, Jiading\\'s designated was changed from a county to a district of Shanghai.In the early Qing dynasty, which overlapped with Southern Ming, the municipality was infamously known for the \"Jiading Massacre\", a mass murder carried out by the invading Qing force, led by defected northern Chinese bandit general Li Chengdong. In late Qing (in 1853), Jiading city [sic] was also known for bandit activities that once captured the city and then Shanghai, as a rebellion of taxation.In 2005, the Jiading district government invested RMB 10 million to build the Shanghai Museum of the Imperial Examination System.\\n\\n\\n== Geography ==\\nJiading district is located in the northwestern part of Shanghai. It stretches across 463.9 square kilometers (179.1 sq mi). It is located about 20 kilometers (12 mi) from downtown Shanghai.\\n\\n\\n=== Climate ===\\nJiading has a humid subtropical climate (Köppen climate classification Cfa). The average annual temperature in Jiading is 16.3 °C (61.3 °F). The average annual rainfall is 1,139.8 mm (44.87 in) with July as the wettest month. The temperatures are highest on average in July, at around 28.2 °C (82.8 °F), and lowest in January, at around 4.0 °C (39.2 °F).\\n\\n\\n== Administration ==\\nJiading District administers several subdistricts towns, including Jiading, Anting, Nanxiang, Huating, Xuhang, Waigang, Huangdu, Malu and Jiangqiao.\\n\\n\\n=== Subdistricts and towns ===\\n\\n\\n== Landmarks ==\\nShanghai University has a campus in downtown Jiading, which is where SILC is based.\\nThe Shanghai International Circuit is located in Jiading. Each year in April, the Shanghai International Circuit holds the Chinese Grand Prix.\\n\\n\\n=== Jiading Confucian Temple ===\\nLocation: 183 Jiading Nan Dajie, near Tacheng Lu, Jiading District, Shanghai\\nThe Jiading Confucian T', metadata={'title': 'Jiading, Shanghai', 'summary': 'Jiading is a suburban district of Shanghai. It had a population of 1,834,258 in 2020.', 'source': 'https://en.wikipedia.org/wiki/Jiading,_Shanghai'}),\n",
              "  Document(page_content='The Shanghai Cooperation Organisation (SCO) is a Eurasian political, economic, international security and defence organization established by China and Russia in 2001. It is the world\\'s largest regional organization in terms of geographic scope and population, covering approximately 80% of the area of Eurasia and 40% of the world population. As of 2021, its combined GDP was around 20% of global GDP.The SCO is the successor to the Shanghai Five, formed in 1996 between the People\\'s Republic of China, Kazakhstan, Kyrgyzstan, Russia, and Tajikistan. In June 2001, the leaders of these nations and Uzbekistan met in Shanghai to announce a new organization with deeper political and economic cooperation.  In June 2017, it expanded to eight states, with India and Pakistan.  Iran joined the group in July 2023. Several countries are engaged as observers or dialogue partners.\\nThe SCO is governed by the Heads of State Council (HSC), its supreme decision-making body, which meets once a year. The organization also contains the so-called Regional Antiterrorist Structure (RATS).\\n\\n\\n== Origins ==\\n\\n\\n=== The Shanghai Five ===\\nThe Shanghai Five group was created on 26 April 1996 when the heads of states of China, Kazakhstan, Kyrgyzstan, Russia and Tajikistan signed the Treaty on Deepening Military Trust in Border Regions in Shanghai.On 24 April 1997 the same countries signed the Treaty on Reduction of Military Forces in Border Regions in a meeting in Moscow, Russia. On 20 May 1997 Russian President Boris Yeltsin and Chinese President Jiang Zemin signed a declaration on a \"multipolar world\".Subsequent annual summits of the Shanghai Five group occurred in Almaty, Kazakhstan in 1998, in Bishkek, Kyrgyzstan in 1999, and in Dushanbe, Tajikistan in 2000. At the Dushanbe summit, members agreed to \"oppose intervention in other countries\\' internal affairs on the reason of \\'humanitarianism\\' and \\'protecting human rights;\\' and support the efforts of one another in safeguarding the five countries\\' nat', metadata={'title': 'Shanghai Cooperation Organisation', 'summary': \"The Shanghai Cooperation Organisation (SCO) is a Eurasian political, economic, international security and defence organization established by China and Russia in 2001. It is the world's largest regional organization in terms of geographic scope and population, covering approximately 80% of the area of Eurasia and 40% of the world population. As of 2021, its combined GDP was around 20% of global GDP.The SCO is the successor to the Shanghai Five, formed in 1996 between the People's Republic of China, Kazakhstan, Kyrgyzstan, Russia, and Tajikistan. In June 2001, the leaders of these nations and Uzbekistan met in Shanghai to announce a new organization with deeper political and economic cooperation.  In June 2017, it expanded to eight states, with India and Pakistan.  Iran joined the group in July 2023. Several countries are engaged as observers or dialogue partners.\\nThe SCO is governed by the Heads of State Council (HSC), its supreme decision-making body, which meets once a year. The organization also contains the so-called Regional Antiterrorist Structure (RATS).\", 'source': 'https://en.wikipedia.org/wiki/Shanghai_Cooperation_Organisation'}),\n",
              "  Document(page_content='The United Nations uses three definitions for what constitutes a city, as not all cities in all jurisdictions are classified using the same criteria. Cities may be defined as the cities proper, the extent of their urban area, or their metropolitan regions.\\n\\n\\n== Definitions ==\\n\\n\\n=== City proper (administrative) ===\\n\\nA city can be defined by its administrative boundaries, otherwise known as city proper. UNICEF defines city proper as, \"the population living within the administrative boundaries of a city or controlled directly from the city by a single authority.\" A city proper is a locality defined according to legal or political boundaries and an administratively recognised urban status that is usually characterised by some form of local government. Cities proper and their boundaries and population data may not include suburbs.The use of city proper as defined by administrative boundaries may not include suburban areas where an important proportion of the population working or studying in the city lives. Because of this definition, the city proper population figure may differ greatly from the urban area population figure, as many cities are amalgamations of smaller municipalities (Australia), and conversely, many Chinese cities govern territories that extend well beyond the core urban area into suburban and rural areas. The Chinese municipality of Chongqing, which is the largest city proper in the world by population, comprises a huge administrative area of 82,403 km2, around the size of Austria. However, more than 70% of its 30-million population are actually agricultural workers living in a rural setting.\\n\\n\\n=== Urban area ===\\n\\nA city can be defined as a conditionally contiguous urban area, without regard to territorial or other boundaries inside an urban area. UNICEF defines urban area as follows:\\n\\nThe definition of \"urban\" varies from country to country, and, with periodic reclassification, can also vary within one country over time, making direct comparisons diffi', metadata={'title': 'List of largest cities', 'summary': 'The United Nations uses three definitions for what constitutes a city, as not all cities in all jurisdictions are classified using the same criteria. Cities may be defined as the cities proper, the extent of their urban area, or their metropolitan regions.', 'source': 'https://en.wikipedia.org/wiki/List_of_largest_cities'}),\n",
              "  Document(page_content='The history of Shanghai spans over a thousand years and closely parallels the development of modern China. Originally a small agricultural village, Shanghai developed during the late Qing dynasty (1644–1912) as one of China\\'s principal trading ports. Although nominally part of China, in practice foreign diplomats controlled the city under the policy of extraterritoriality. Since the economic reforms of the early 1990s the city has burgeoned to become one of Asia\\'s major financial centers and the world\\'s busiest container port.\\n\\n\\n== Early Era ==\\nAround 6000 BCE, only the western part of the Shanghai region encompassing today\\'s Qingpu, Songjiang and Jinshan districts were dry land formed by lacustrine silting from ancient Lake Tai. The modern Jiading, Minhang and Fengxian districts emerged around 1,000 BC while the downtown area remained underwater.\\nThe earliest Neolithic settlements known in this area date to the Majiabang culture  (5000–3300 BCE). This was overlapped by the Songze culture between around 3800–3300 BCE. In the lower stratum of the Songze excavation site in the modern-day Qingpu District, archaeologists found the prone skeleton of one of the Shanghai\\'s earliest inhabitants—a 25-30-year-old male with an almost complete skull dated to the Majiabang era.By the 4th and 5th centuries CE, during the Eastern Jin dynasty (317–420), a thriving fishing industry had developed along the Song River—now known as Suzhou Creek,—a tributary of the Huangpu River. Located some 12 miles (19 km) from the Yangtze River estuary, China\\'s largest inland waterway, the creek was at that time known as the Hu (沪), a character that represents a fishing trap, of which there were a number in the river. The character Hu is still used as an abbreviation to denote the city, for example on car license plates. Qinglong Zhen (青龙镇; 芊龍鎮), the \"Garrison of the Green Dragon\", the first garrison in this area, was founded in 746 during the Tang dynasty (618–907) in what is now the Qingpu Distric', metadata={'title': 'History of Shanghai', 'summary': \"The history of Shanghai spans over a thousand years and closely parallels the development of modern China. Originally a small agricultural village, Shanghai developed during the late Qing dynasty (1644–1912) as one of China's principal trading ports. Although nominally part of China, in practice foreign diplomats controlled the city under the policy of extraterritoriality. Since the economic reforms of the early 1990s the city has burgeoned to become one of Asia's major financial centers and the world's busiest container port.\", 'source': 'https://en.wikipedia.org/wiki/History_of_Shanghai'}),\n",
              "  Document(page_content=\"Population projections are attempts to show how the human population statistics might change in the future. These projections are an important input to forecasts of the population's impact on this planet and humanity's future well-being. Models of population growth take trends in human development and apply projections into the future. These models use trend-based-assumptions about how populations will respond to economic, social and technological forces to understand how they will affect fertility and mortality, and thus population growth.The 2022 projections from the United Nations Population Division (chart #1) show that annual world population growth peaked at 2.3% per year in 1963, has since dropped to 0.9% in 2023, equivalent to about 74 million people each year, and projected that it could drop even further to minus 0.1% by 2100. Based on this, the UN projected that the world population, 8 billion as of 2023, would peak around the year 2086 at about 10.4 billion, and then start a slow decline, assuming a continuing decrease in the global average fertility rate from 2.5 births per woman during the 2015–2020 period to 1.8 by the year 2100, (the medium-variant projection).However, estimates outside of the United Nations have put forward alternative models based on additional downward pressure on fertility (such as successful implementation of education and family planning goals in the UN's Sustainable Development Goals) which could result in peak population during the 2060–2070 period rather than later.\\nAccording to the UN, of the predicted growth in world population between 2020 and 2050, all of that change will come from less developed countries, and more than half will come from sub-Saharan Africa. Half of the growth will come from just eight countries, five of which are in Africa. The UN predicts that the population of sub-Saharan Africa will double by 2050. The Pew Research Center observes that 50% of births in the year 2100 will be in Africa. Other organiz\", metadata={'title': 'Projections of population growth', 'summary': \"Population projections are attempts to show how the human population statistics might change in the future. These projections are an important input to forecasts of the population's impact on this planet and humanity's future well-being. Models of population growth take trends in human development and apply projections into the future. These models use trend-based-assumptions about how populations will respond to economic, social and technological forces to understand how they will affect fertility and mortality, and thus population growth.The 2022 projections from the United Nations Population Division (chart #1) show that annual world population growth peaked at 2.3% per year in 1963, has since dropped to 0.9% in 2023, equivalent to about 74 million people each year, and projected that it could drop even further to minus 0.1% by 2100. Based on this, the UN projected that the world population, 8 billion as of 2023, would peak around the year 2086 at about 10.4 billion, and then start a slow decline, assuming a continuing decrease in the global average fertility rate from 2.5 births per woman during the 2015–2020 period to 1.8 by the year 2100, (the medium-variant projection).However, estimates outside of the United Nations have put forward alternative models based on additional downward pressure on fertility (such as successful implementation of education and family planning goals in the UN's Sustainable Development Goals) which could result in peak population during the 2060–2070 period rather than later.\\nAccording to the UN, of the predicted growth in world population between 2020 and 2050, all of that change will come from less developed countries, and more than half will come from sub-Saharan Africa. Half of the growth will come from just eight countries, five of which are in Africa. The UN predicts that the population of sub-Saharan Africa will double by 2050. The Pew Research Center observes that 50% of births in the year 2100 will be in Africa. Other organizations project lower levels of population growth in Africa, based particularly on improvement in women's education and successful implementation of family planning.During the remainder of this century some countries will see population growth, some will see population decline. For example the UN projects that Nigeria will gain about 340 million people, about the present population of the US, to become the 3rd most populous country, and China will lose almost half of its population.Even though the global fertility rate continues to fall, chart #2 shows that because of population momentum the global population will continue to grow, although at a steadily slower rate, until the mid 2080s (the median line). \\nThe main driver of long-term future population growth on this planet is projected to be the continuing evolution of fertility and mortality.\\n\\n\", 'source': 'https://en.wikipedia.org/wiki/Projections_of_population_growth'})]}"
            ]
          },
          "execution_count": 43,
          "metadata": {},
          "output_type": "execute_result"
        }
      ],
      "source": [
        "chain.invoke(\"what the population of shanghai?\")"
      ]
    },
    {
      "cell_type": "code",
      "execution_count": 45,
      "id": "6da2dac6",
      "metadata": {},
      "outputs": [
        {
          "data": {
            "text/plain": [
              "[{'answer': 'The population of Shanghai is approximately 24.28 million as of 2021.',\n",
              "  'citations': [1]}]"
            ]
          },
          "execution_count": 45,
          "metadata": {},
          "output_type": "execute_result"
        }
      ],
      "source": [
        "from langchain.output_parsers.openai_tools import JsonOutputKeyToolsParser\n",
        "\n",
        "output_parser = JsonOutputKeyToolsParser(key_name=\"cited_answer\", return_single=False)\n",
        "(llm_with_tool | output_parser).invoke(\"what the population of shanghai?\")"
      ]
    },
    {
      "cell_type": "code",
      "execution_count": null,
      "id": "092ce872",
      "metadata": {},
      "outputs": [],
      "source": []
    }
  ],
  "metadata": {
    "colab": {
      "provenance": []
    },
    "kernelspec": {
      "display_name": "Python 3 (ipykernel)",
      "language": "python",
      "name": "python3"
    },
    "language_info": {
      "codemirror_mode": {
        "name": "ipython",
        "version": 3
      },
      "file_extension": ".py",
      "mimetype": "text/x-python",
      "name": "python",
      "nbconvert_exporter": "python",
      "pygments_lexer": "ipython3",
      "version": "3.10.6"
    }
  },
  "nbformat": 4,
  "nbformat_minor": 5
}
