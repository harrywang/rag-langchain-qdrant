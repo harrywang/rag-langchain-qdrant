{
 "cells": [
  {
   "cell_type": "code",
   "execution_count": 38,
   "metadata": {},
   "outputs": [],
   "source": [
    "import weaviate\n",
    "import os\n",
    "import openai\n",
    "import os\n",
    "from dotenv import load_dotenv\n",
    "\n",
    "load_dotenv()  # take environment variables from .env\n",
    "\n",
    "  \n",
    "# Set these environment variables\n",
    "cluster_url = os.getenv(\"WCS_CLUSTER_URL\")\n",
    "wcs_api_key = os.getenv(\"WCS_API_KEY\")\n",
    "openai_api_key = os.getenv(\"OPENAI_API_KEY\")"
   ]
  },
  {
   "cell_type": "code",
   "execution_count": 41,
   "metadata": {},
   "outputs": [
    {
     "name": "stdout",
     "output_type": "stream",
     "text": [
      "{'markdown': \"-for-profit.\\n\\n[](financial-planning-and-wealth-management/index.html)\\n\\n[Financial Planning and Wealth Management (B.S.)](financial-planning-and-\\nwealth-management/index.html)\\n\\nAs many employees are now tasked with managing their own money both before and\\nafter retirement, a growing number of families and retirees need financial\\nplanners to help them to make important financial decisions.\\n\\n[](global-enterprise-management-b-s/index.html)\\n\\n[Global Enterprise Management (B.S.)](global-enterprise-management-\\nb-s/index.html)\\n\\nThe global enterprise management (GEM) major is your opportunity to gain the\\nknowledge, skills and aptitudes you need to succeed in the new global business\\nenvironment.\\n\\n[](hospitality-business-management-bs/index.html)\\n\\n[Hospitality and Event Experience Management (B.S.)](hospitality-business-\\nmanagement-bs/index.html)\\n\\nThe hospitality industry is one of the world's largest employers, offering\\noutstanding employment options around the globe, whether you're interested in\\nhotel, food service, event management or other hospitality operations.\\n\\n[](hsim-bs/index.html)\\n\\n[Hospitality Industry Management (B.S.)](hsim-bs/index.html)\\n\\nAs a hospitality industry management (HSIM) student, you will learn the skills\\nyou need to help make excellent and informed decisions within the hospitality\\nindustry.\\n\\n[](international-business-studies-bs/index.html)\\n\\n[International Business Studies (B.S.)](international-business-studies-\\nbs/index.html)\\n\\nThe international business studies (IBS) major is designed to prepare you to\\nlive and conduct business effectively around the world.\\n\\n[](management-bs/index.html)\\n\\n[Management (B.S.)](management-bs/index.html)\\n\\nThe management major will help you become a business leader who works with\\nothers to effectively create and implement ideas.\\n\\n[](mis-bs/index.html)\\n\\n[Management Information Systems (B.S.)](mis-bs/index.html)\\n\\nAs a management information systems (MIS) major, you will learn to use\\ninformation technology to solve business problems and find creative\\ncompetitive advantages.\\n\\n[](marketing-bs/index.html)\\n\\n[Marketing (B.S.)](marketing-bs/index.html)\\n\\nAs a marketing major, you will learn to identify wants and needs among diverse\\ngroups of people, select target markets and develop strategies for new and\\nexisting products.\\n\\n[](operations-management-bs/index.html)\\n\\n[Operations Management (B.S.)](operations-management-bs/index.html)\\n\\nAs an operations management major, you'll learn about the processes that\\ncompanies use to transform resources into goods and services.\\n\\n[](sport-management-bs/index.html)\\n\\n[Sport Management (B.S.)](sport-management-bs/index.html)\\n\\nAs a sport management major, you'll take courses that are specific to the\\nsport management discipline, as well as essential business courses that will\\nhelp you to develop quantitative analysis skills and an understanding of\\nessential business concepts.\\n\\nMajors\\n\\n  * [Accounting (B.S.)](accounting-bs/index.html)\\n  * [Business Analytics (B.S.)](business-analytics-bs/index.html)\\n  * [Business Undeclared Major](business-undeclared-major/index.html)\\n  * [Economics Education (B.A.)](economic-education-ba/index.html)\\n  * [Economics (B.A./B.S.)](economics-ba-bs/index.html)\\n  * [Entrepreneurship (B.S.)](entrepreneurship-bs/index.html)\\n  * [Finance (B.S.)](finance-bs/index.html)\\n  * [Financial Planning and Wealth Management (B.S.)](financial-planning-and-wealth-management/index.html)\\n  * [Global Enterprise Management (B.S.)](global-enterprise-management-b-s/index.html)\\n  * [Hospitality and Event Experience Management (B.S.)](hospitality-business-management-bs/index.html)\\n  * [Hospitality Industry Management (B.S.)](hsim-bs/index.html)\\n  * [International Business Studies (B.S.)](international-business-studies-bs/index.html)\\n  * [Management (B.S.)](management-bs/index.html)\\n  * [Management Information Systems (B.S.)](mis-bs/index.html)\\n  * [Marketing (B.S.)](marketing-bs/index.html)\\n  * [Operations Management (B.S.)](operations-management-bs/index.html)\\n  * [Sport Management (B.S.)](sport-management-bs/index.html)\\n\\n[Request Info](../../../request-information-undergraduate-programs/index.html)\\n\\n[Visit Campus](https://www.udel.edu/apply/undergraduate-admissions/plan-your-\\nvisit/)\\n\\n[](../../../seeing-opportunity/lerner-majors-explained/index.html)  \\n[Lerner Majors Explained](../../../seeing-opportunity/lerner-majors-\\nexplained/index.html)  \\nIn this video, Lerner College students share brief overviews of each of the 16\\nmajors offered by Lerner.\\n\\n[](../double-majors/index.html)  \\n[Double Majors](../double-majors/index.html)  \\nExplore popular interdepartmental areas of study.\\n\\nAlfred Lerner College of Business & Economics  \\n303 Alfred Lerner Hall  \\nNewark, DE\", 'tag': ['lerner.udel.edu', 'programs', 'undergraduate-programs', 'majors'], 'url': 'https://lerner.udel.edu/programs/undergraduate-programs/majors'}\n"
     ]
    }
   ],
   "source": [
    "import weaviate\n",
    "import weaviate.classes as wvc\n",
    "import os\n",
    "\n",
    "client = weaviate.connect_to_wcs(\n",
    "    cluster_url=cluster_url,\n",
    "    auth_credentials=weaviate.auth.AuthApiKey(wcs_api_key),\n",
    "    skip_init_checks=True,\n",
    "    headers={\n",
    "        \"X-OpenAI-Api-Key\": openai_api_key  # Replace with your inference API key\n",
    "    }\n",
    ")\n",
    "\n",
    "try:\n",
    "    pass # Replace with your code. Close client gracefully in the finally block.\n",
    "    tdocs = client.collections.get(\"TakinDocs\")\n",
    "\n",
    "    response = tdocs.query.near_text(\n",
    "        query=\"what majors\",\n",
    "        limit=3\n",
    "    )\n",
    "\n",
    "    print(response.objects[0].properties)  # Inspect the first object\n",
    "\n",
    "finally:\n",
    "    client.close()  # Close client gracefully"
   ]
  },
  {
   "cell_type": "code",
   "execution_count": 42,
   "metadata": {},
   "outputs": [
    {
     "data": {
      "text/plain": [
       "{'markdown': \"-for-profit.\\n\\n[](financial-planning-and-wealth-management/index.html)\\n\\n[Financial Planning and Wealth Management (B.S.)](financial-planning-and-\\nwealth-management/index.html)\\n\\nAs many employees are now tasked with managing their own money both before and\\nafter retirement, a growing number of families and retirees need financial\\nplanners to help them to make important financial decisions.\\n\\n[](global-enterprise-management-b-s/index.html)\\n\\n[Global Enterprise Management (B.S.)](global-enterprise-management-\\nb-s/index.html)\\n\\nThe global enterprise management (GEM) major is your opportunity to gain the\\nknowledge, skills and aptitudes you need to succeed in the new global business\\nenvironment.\\n\\n[](hospitality-business-management-bs/index.html)\\n\\n[Hospitality and Event Experience Management (B.S.)](hospitality-business-\\nmanagement-bs/index.html)\\n\\nThe hospitality industry is one of the world's largest employers, offering\\noutstanding employment options around the globe, whether you're interested in\\nhotel, food service, event management or other hospitality operations.\\n\\n[](hsim-bs/index.html)\\n\\n[Hospitality Industry Management (B.S.)](hsim-bs/index.html)\\n\\nAs a hospitality industry management (HSIM) student, you will learn the skills\\nyou need to help make excellent and informed decisions within the hospitality\\nindustry.\\n\\n[](international-business-studies-bs/index.html)\\n\\n[International Business Studies (B.S.)](international-business-studies-\\nbs/index.html)\\n\\nThe international business studies (IBS) major is designed to prepare you to\\nlive and conduct business effectively around the world.\\n\\n[](management-bs/index.html)\\n\\n[Management (B.S.)](management-bs/index.html)\\n\\nThe management major will help you become a business leader who works with\\nothers to effectively create and implement ideas.\\n\\n[](mis-bs/index.html)\\n\\n[Management Information Systems (B.S.)](mis-bs/index.html)\\n\\nAs a management information systems (MIS) major, you will learn to use\\ninformation technology to solve business problems and find creative\\ncompetitive advantages.\\n\\n[](marketing-bs/index.html)\\n\\n[Marketing (B.S.)](marketing-bs/index.html)\\n\\nAs a marketing major, you will learn to identify wants and needs among diverse\\ngroups of people, select target markets and develop strategies for new and\\nexisting products.\\n\\n[](operations-management-bs/index.html)\\n\\n[Operations Management (B.S.)](operations-management-bs/index.html)\\n\\nAs an operations management major, you'll learn about the processes that\\ncompanies use to transform resources into goods and services.\\n\\n[](sport-management-bs/index.html)\\n\\n[Sport Management (B.S.)](sport-management-bs/index.html)\\n\\nAs a sport management major, you'll take courses that are specific to the\\nsport management discipline, as well as essential business courses that will\\nhelp you to develop quantitative analysis skills and an understanding of\\nessential business concepts.\\n\\nMajors\\n\\n  * [Accounting (B.S.)](accounting-bs/index.html)\\n  * [Business Analytics (B.S.)](business-analytics-bs/index.html)\\n  * [Business Undeclared Major](business-undeclared-major/index.html)\\n  * [Economics Education (B.A.)](economic-education-ba/index.html)\\n  * [Economics (B.A./B.S.)](economics-ba-bs/index.html)\\n  * [Entrepreneurship (B.S.)](entrepreneurship-bs/index.html)\\n  * [Finance (B.S.)](finance-bs/index.html)\\n  * [Financial Planning and Wealth Management (B.S.)](financial-planning-and-wealth-management/index.html)\\n  * [Global Enterprise Management (B.S.)](global-enterprise-management-b-s/index.html)\\n  * [Hospitality and Event Experience Management (B.S.)](hospitality-business-management-bs/index.html)\\n  * [Hospitality Industry Management (B.S.)](hsim-bs/index.html)\\n  * [International Business Studies (B.S.)](international-business-studies-bs/index.html)\\n  * [Management (B.S.)](management-bs/index.html)\\n  * [Management Information Systems (B.S.)](mis-bs/index.html)\\n  * [Marketing (B.S.)](marketing-bs/index.html)\\n  * [Operations Management (B.S.)](operations-management-bs/index.html)\\n  * [Sport Management (B.S.)](sport-management-bs/index.html)\\n\\n[Request Info](../../../request-information-undergraduate-programs/index.html)\\n\\n[Visit Campus](https://www.udel.edu/apply/undergraduate-admissions/plan-your-\\nvisit/)\\n\\n[](../../../seeing-opportunity/lerner-majors-explained/index.html)  \\n[Lerner Majors Explained](../../../seeing-opportunity/lerner-majors-\\nexplained/index.html)  \\nIn this video, Lerner College students share brief overviews of each of the 16\\nmajors offered by Lerner.\\n\\n[](../double-majors/index.html)  \\n[Double Majors](../double-majors/index.html)  \\nExplore popular interdepartmental areas of study.\\n\\nAlfred Lerner College of Business & Economics  \\n303 Alfred Lerner Hall  \\nNewark, DE\",\n",
       " 'tag': ['lerner.udel.edu', 'programs', 'undergraduate-programs', 'majors'],\n",
       " 'url': 'https://lerner.udel.edu/programs/undergraduate-programs/majors'}"
      ]
     },
     "execution_count": 42,
     "metadata": {},
     "output_type": "execute_result"
    }
   ],
   "source": [
    "# list all properties of the first object markdown\n",
    "response.objects[0].properties"
   ]
  },
  {
   "cell_type": "code",
   "execution_count": 43,
   "metadata": {},
   "outputs": [
    {
     "data": {
      "text/plain": [
       "\"-for-profit.\\n\\n[](financial-planning-and-wealth-management/index.html)\\n\\n[Financial Planning and Wealth Management (B.S.)](financial-planning-and-\\nwealth-management/index.html)\\n\\nAs many employees are now tasked with managing their own money both before and\\nafter retirement, a growing number of families and retirees need financial\\nplanners to help them to make important financial decisions.\\n\\n[](global-enterprise-management-b-s/index.html)\\n\\n[Global Enterprise Management (B.S.)](global-enterprise-management-\\nb-s/index.html)\\n\\nThe global enterprise management (GEM) major is your opportunity to gain the\\nknowledge, skills and aptitudes you need to succeed in the new global business\\nenvironment.\\n\\n[](hospitality-business-management-bs/index.html)\\n\\n[Hospitality and Event Experience Management (B.S.)](hospitality-business-\\nmanagement-bs/index.html)\\n\\nThe hospitality industry is one of the world's largest employers, offering\\noutstanding employment options around the globe, whether you're interested in\\nhotel, food service, event management or other hospitality operations.\\n\\n[](hsim-bs/index.html)\\n\\n[Hospitality Industry Management (B.S.)](hsim-bs/index.html)\\n\\nAs a hospitality industry management (HSIM) student, you will learn the skills\\nyou need to help make excellent and informed decisions within the hospitality\\nindustry.\\n\\n[](international-business-studies-bs/index.html)\\n\\n[International Business Studies (B.S.)](international-business-studies-\\nbs/index.html)\\n\\nThe international business studies (IBS) major is designed to prepare you to\\nlive and conduct business effectively around the world.\\n\\n[](management-bs/index.html)\\n\\n[Management (B.S.)](management-bs/index.html)\\n\\nThe management major will help you become a business leader who works with\\nothers to effectively create and implement ideas.\\n\\n[](mis-bs/index.html)\\n\\n[Management Information Systems (B.S.)](mis-bs/index.html)\\n\\nAs a management information systems (MIS) major, you will learn to use\\ninformation technology to solve business problems and find creative\\ncompetitive advantages.\\n\\n[](marketing-bs/index.html)\\n\\n[Marketing (B.S.)](marketing-bs/index.html)\\n\\nAs a marketing major, you will learn to identify wants and needs among diverse\\ngroups of people, select target markets and develop strategies for new and\\nexisting products.\\n\\n[](operations-management-bs/index.html)\\n\\n[Operations Management (B.S.)](operations-management-bs/index.html)\\n\\nAs an operations management major, you'll learn about the processes that\\ncompanies use to transform resources into goods and services.\\n\\n[](sport-management-bs/index.html)\\n\\n[Sport Management (B.S.)](sport-management-bs/index.html)\\n\\nAs a sport management major, you'll take courses that are specific to the\\nsport management discipline, as well as essential business courses that will\\nhelp you to develop quantitative analysis skills and an understanding of\\nessential business concepts.\\n\\nMajors\\n\\n  * [Accounting (B.S.)](accounting-bs/index.html)\\n  * [Business Analytics (B.S.)](business-analytics-bs/index.html)\\n  * [Business Undeclared Major](business-undeclared-major/index.html)\\n  * [Economics Education (B.A.)](economic-education-ba/index.html)\\n  * [Economics (B.A./B.S.)](economics-ba-bs/index.html)\\n  * [Entrepreneurship (B.S.)](entrepreneurship-bs/index.html)\\n  * [Finance (B.S.)](finance-bs/index.html)\\n  * [Financial Planning and Wealth Management (B.S.)](financial-planning-and-wealth-management/index.html)\\n  * [Global Enterprise Management (B.S.)](global-enterprise-management-b-s/index.html)\\n  * [Hospitality and Event Experience Management (B.S.)](hospitality-business-management-bs/index.html)\\n  * [Hospitality Industry Management (B.S.)](hsim-bs/index.html)\\n  * [International Business Studies (B.S.)](international-business-studies-bs/index.html)\\n  * [Management (B.S.)](management-bs/index.html)\\n  * [Management Information Systems (B.S.)](mis-bs/index.html)\\n  * [Marketing (B.S.)](marketing-bs/index.html)\\n  * [Operations Management (B.S.)](operations-management-bs/index.html)\\n  * [Sport Management (B.S.)](sport-management-bs/index.html)\\n\\n[Request Info](../../../request-information-undergraduate-programs/index.html)\\n\\n[Visit Campus](https://www.udel.edu/apply/undergraduate-admissions/plan-your-\\nvisit/)\\n\\n[](../../../seeing-opportunity/lerner-majors-explained/index.html)  \\n[Lerner Majors Explained](../../../seeing-opportunity/lerner-majors-\\nexplained/index.html)  \\nIn this video, Lerner College students share brief overviews of each of the 16\\nmajors offered by Lerner.\\n\\n[](../double-majors/index.html)  \\n[Double Majors](../double-majors/index.html)  \\nExplore popular interdepartmental areas of study.\\n\\nAlfred Lerner College of Business & Economics  \\n303 Alfred Lerner Hall  \\nNewark, DE\""
      ]
     },
     "execution_count": 43,
     "metadata": {},
     "output_type": "execute_result"
    }
   ],
   "source": [
    "# list all properties of the first object markdown\n",
    "response.objects[0].properties['markdown']"
   ]
  },
  {
   "cell_type": "code",
   "execution_count": null,
   "metadata": {},
   "outputs": [],
   "source": []
  }
 ],
 "metadata": {
  "kernelspec": {
   "display_name": "venv",
   "language": "python",
   "name": "python3"
  },
  "language_info": {
   "codemirror_mode": {
    "name": "ipython",
    "version": 3
   },
   "file_extension": ".py",
   "mimetype": "text/x-python",
   "name": "python",
   "nbconvert_exporter": "python",
   "pygments_lexer": "ipython3",
   "version": "3.10.6"
  }
 },
 "nbformat": 4,
 "nbformat_minor": 2
}
